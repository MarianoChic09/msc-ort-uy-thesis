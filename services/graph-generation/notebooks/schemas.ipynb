{
 "cells": [
  {
   "cell_type": "markdown",
   "metadata": {},
   "source": [
    "# Testing different schemas"
   ]
  },
  {
   "cell_type": "code",
   "execution_count": 1,
   "metadata": {},
   "outputs": [
    {
     "name": "stdout",
     "output_type": "stream",
     "text": [
      "c:\\Users\\scruple077\\Documents\\GitHub\\msc-ort-uy-thesis\\services\\graph-generation\\notebooks\n",
      "c:\\Users\\scruple077\\Documents\\GitHub\\msc-ort-uy-thesis\\services\\graph-generation\n"
     ]
    }
   ],
   "source": [
    "import sys\n",
    "import os\n",
    "\n",
    "print(os.getcwd())\n",
    "\n",
    "os.chdir(\"../\")\n",
    "print(os.getcwd())\n",
    "\n",
    "# Assuming the notebook is inside the 'notebooks' directory and 'src' is one level up\n",
    "# Add the src directory to the sys.path\n",
    "module_path = os.path.abspath(os.path.join(\"..\", \"src\"))\n",
    "if module_path not in sys.path:\n",
    "    sys.path.append(module_path)"
   ]
  },
  {
   "cell_type": "code",
   "execution_count": 12,
   "metadata": {},
   "outputs": [
    {
     "name": "stdout",
     "output_type": "stream",
     "text": [
      "200\n",
      "{'message': 'Document uploaded and index created successfully.'}\n"
     ]
    }
   ],
   "source": [
    "import requests\n",
    "\n",
    "# Define the URL of your FastAPI endpoint\n",
    "url = \"http://localhost:8000/predefined-schema-extractor\"\n",
    "\n",
    "# Define the file to upload\n",
    "file_path = r\"data\\03_processed\\Environmental-and-Social-Framework 3.pdf\"\n",
    "files = {\"file\": open(file_path, \"rb\")}\n",
    "\n",
    "# Define the JSON schema to send\n",
    "schema = {\n",
    "    \"entities\": [\"BORROWER\", \"REQUIREMENT\"],\n",
    "    \"relations\": [\"MUST_COMPLY_WITH\", \"IS_OBLIGATED_TO\"],\n",
    "    \"validation_schema\": {\n",
    "        \"BORROWER\": [\"MUST_COMPLY_WITH\"],\n",
    "        \"CONTRACTOR\": [\"IS_OBLIGATED_TO\"],\n",
    "        \"REQUIREMENT\": [],\n",
    "    },\n",
    "}\n",
    "\n",
    "# Send the POST request\n",
    "response = requests.post(\n",
    "    url,\n",
    "    files=files,  # Send the file\n",
    "    json=schema,  # Send the JSON schema\n",
    ")\n",
    "\n",
    "# Print the response from the server\n",
    "print(response.status_code)\n",
    "print(response.json())"
   ]
  },
  {
   "cell_type": "code",
   "execution_count": 22,
   "metadata": {},
   "outputs": [
    {
     "data": {
      "text/plain": [
       "True"
      ]
     },
     "execution_count": 22,
     "metadata": {},
     "output_type": "execute_result"
    }
   ],
   "source": [
    "import webbrowser\n",
    "import os\n",
    "\n",
    "# Path to the saved HTML file\n",
    "html_file_path = os.path.abspath(\"./data/08_reports/kg_predefined_schema.html\")\n",
    "\n",
    "# Open the file in the default web browser\n",
    "webbrowser.open(f\"file://{html_file_path}\")"
   ]
  },
  {
   "cell_type": "code",
   "execution_count": 15,
   "metadata": {},
   "outputs": [
    {
     "data": {
      "text/plain": [
       "<Response [200]>"
      ]
     },
     "execution_count": 15,
     "metadata": {},
     "output_type": "execute_result"
    }
   ],
   "source": [
    "response"
   ]
  },
  {
   "cell_type": "markdown",
   "metadata": {},
   "source": [
    "# Baseline RAG"
   ]
  },
  {
   "cell_type": "markdown",
   "metadata": {},
   "source": [
    "## Upload documents to RAG"
   ]
  },
  {
   "cell_type": "code",
   "execution_count": 3,
   "metadata": {},
   "outputs": [
    {
     "name": "stdout",
     "output_type": "stream",
     "text": [
      "200\n",
      "{'message': 'Document uploaded and baseline RAG index created successfully.'}\n"
     ]
    }
   ],
   "source": [
    "import requests\n",
    "\n",
    "# Define the URL of your FastAPI endpoint\n",
    "url = \"http://localhost:8000/baseline-rag\"\n",
    "\n",
    "# Define the file to upload\n",
    "file_path = r\"data\\03_processed\\Environmental-and-Social-Framework 3.pdf\"\n",
    "files = {\"file\": open(file_path, \"rb\")}\n",
    "\n",
    "\n",
    "# Send the POST request\n",
    "response = requests.post(\n",
    "    url,\n",
    "    files=files,  # Send the file\n",
    "    # json=schema,  # Send the JSON schema\n",
    ")\n",
    "\n",
    "# Print the response from the server\n",
    "print(response.status_code)\n",
    "print(response.json())"
   ]
  },
  {
   "cell_type": "markdown",
   "metadata": {},
   "source": [
    "## Query Baseline RAG"
   ]
  },
  {
   "cell_type": "code",
   "execution_count": 42,
   "metadata": {},
   "outputs": [
    {
     "name": "stdout",
     "output_type": "stream",
     "text": [
      "200\n",
      "{'response': 'The Environmental and Social Framework (ESF) outlines the requirements for addressing resource efficiency and pollution prevention and management throughout the project life cycle. It aims to promote the sustainable use of resources, minimize adverse impacts on human health and the environment, and manage emissions and waste. The framework includes specific measures for energy and water use, raw material consumption, and the management of air pollution and hazardous and non-hazardous wastes. It also emphasizes the importance of considering ambient conditions, existing pollution levels, and potential cumulative impacts in project planning and implementation.', 'source_nodes': [{'node': {'id_': '1857c83c-02b5-4e71-ac57-1036f89edb2c', 'embedding': None, 'metadata': {'page_label': '53', 'file_name': 'Environmental-and-Social-Framework 3.pdf', 'file_path': 'C:\\\\Users\\\\scruple077\\\\Documents\\\\GitHub\\\\msc-ort-uy-thesis\\\\services\\\\graph-generation\\\\data\\\\03_processed\\\\Environmental-and-Social-Framework 3.pdf', 'file_type': 'application/pdf', 'file_size': 241851, 'creation_date': '2024-07-17', 'last_modified_date': '2024-09-03'}, 'excluded_embed_metadata_keys': ['file_name', 'file_type', 'file_size', 'creation_date', 'last_modified_date', 'last_accessed_date'], 'excluded_llm_metadata_keys': ['file_name', 'file_type', 'file_size', 'creation_date', 'last_modified_date', 'last_accessed_date'], 'relationships': {'1': {'node_id': 'a6981d5a-130b-49db-96d7-c24230bed417', 'node_type': '4', 'metadata': {'page_label': '53', 'file_name': 'Environmental-and-Social-Framework 3.pdf', 'file_path': 'C:\\\\Users\\\\scruple077\\\\Documents\\\\GitHub\\\\msc-ort-uy-thesis\\\\services\\\\graph-generation\\\\data\\\\03_processed\\\\Environmental-and-Social-Framework 3.pdf', 'file_type': 'application/pdf', 'file_size': 241851, 'creation_date': '2024-07-17', 'last_modified_date': '2024-09-03'}, 'hash': 'e6a4c8ffe74f9cdd33e866fa28081b72cdd9c090307914e3a7d702f6ea4d5f23'}}, 'text': '39\\nESS3 \\nResource Efficiency  \\nand Pollution Prevention \\nand Management3\\nRe\\nanIntroduction\\n1. ESS3 recognizes that economic activity \\nand urbanization often generate pollution to air, water, and land, and consume finite resources that may threaten people, eco-system services and the environment at the local, regional, and gl obal lev els. The cur-\\nrent and projected atmospheric concentra-tion of greenhouse gases (GHG) threatens the welfare of current and future genera-tions. At the same time, more efficient and effective r esource  use, pollution preven-\\ntion and GHG emission avoidance, and mitigation technologies and practices have become more accessible and achievable.2. This ESS sets out the requirements to address \\nresource efficiency and pollution1 prevention and \\nmanagement2 throughout the project life cycle \\nconsistent with GIIP.\\nObjectives\\nϘTo promote the sustainable use of resources, including energy, water and raw materials.\\nϘTo avoid or minimize adverse impacts on human health and the environment by avoiding or mini-mizing pollution from project activities.\\nϘTo avoid or minimize project-related emissions of short and long-lived climate pollutants.\\n3\\nϘTo avoid or minimize generation of hazardous and non-hazardous waste.\\nϘTo minimize and manage the risks and impacts associated with pesticide use.\\nScope of application\\n3. The applicability of this ESS is established during the environmental and social assessment described in ESS1.\\nRequirements\\n4. The Bor rower will consider ambient condi-\\ntions and apply technically and financially fea-sible resource  efficiency and pollution p revention \\n1The term “pollution” is used to refer to both hazardous and non-\\nhazardous chemical pollutants in the solid, liquid, or gaseous phases, and includes other components such as thermal dis-charge to water, emissions of short- and long-lived climate pollutants, nuisance odors, noise, vibration, radiation, electro-magnetic energy, and the creation of potential visual impacts including light.\\n2Unless otherwise noted in this ESS, “pollution management” \\nincludes measures designed to avoid or minimize emissions of pollutants, including short- and long-lived climate pollutants, given that measures which tend to encourage reduction in energy and raw material use, as well as emissions of local pollutants, also generally result in encouraging a reduction of emissions of short- and long-lived climate pollutants.\\n3This includes all GHGs and black carbon (BC).', 'mimetype': 'text/plain', 'start_char_idx': 0, 'end_char_idx': 2481, 'text_template': '{metadata_str}\\n\\n{content}', 'metadata_template': '{key}: {value}', 'metadata_seperator': '\\n'}, 'score': 0.8450036909440228}, {'node': {'id_': 'd8222361-5889-46fb-9624-308d20e2b052', 'embedding': None, 'metadata': {'page_label': '55', 'file_name': 'Environmental-and-Social-Framework 3.pdf', 'file_path': 'C:\\\\Users\\\\scruple077\\\\Documents\\\\GitHub\\\\msc-ort-uy-thesis\\\\services\\\\graph-generation\\\\data\\\\03_processed\\\\Environmental-and-Social-Framework 3.pdf', 'file_type': 'application/pdf', 'file_size': 241851, 'creation_date': '2024-07-17', 'last_modified_date': '2024-09-03'}, 'excluded_embed_metadata_keys': ['file_name', 'file_type', 'file_size', 'creation_date', 'last_modified_date', 'last_accessed_date'], 'excluded_llm_metadata_keys': ['file_name', 'file_type', 'file_size', 'creation_date', 'last_modified_date', 'last_accessed_date'], 'relationships': {'1': {'node_id': '79395867-ac96-4c5c-bc3d-3daa36fe917b', 'node_type': '4', 'metadata': {'page_label': '55', 'file_name': 'Environmental-and-Social-Framework 3.pdf', 'file_path': 'C:\\\\Users\\\\scruple077\\\\Documents\\\\GitHub\\\\msc-ort-uy-thesis\\\\services\\\\graph-generation\\\\data\\\\03_processed\\\\Environmental-and-Social-Framework 3.pdf', 'file_type': 'application/pdf', 'file_size': 241851, 'creation_date': '2024-07-17', 'last_modified_date': '2024-09-03'}, 'hash': '9723cf50618216671c6da8bb96dd86cc4903312fbf365e44684f3652d425c0d3'}, '3': {'node_id': '84bd6dbd-9142-4f5c-af80-1d90320b3894', 'node_type': '1', 'metadata': {}, 'hash': 'a460d23d91056dd767013a98f044b479fa25009b572a2aaf7398b58cd75a6a7d'}}, 'text': '41\\nESS3 13. To address potential adverse project impacts \\non human health and the environment,8 the Bor-\\nrower will consider relevant factors, including, for example: (a) existing ambient conditions; (b) in areas already impacted by pollution, the remaining assimilative capacity\\n9 of the environment; (c) Нexist-\\ning and future land use; (d) the project’s proximity to areas of importance to biodiversity; (e) the potential for cumulative impacts with uncertain and/or irre-versible consequences; and (f) impacts of climate change. \\n14. In addition to applying resource efficiency and \\npollution control measures as required in this ESS, when the project has the potential to consti-tute a significant source of emissions in an already degraded area, the Bor rower will consid er addi-\\ntional strategies and adopt measures that avoid or minimize negative effects. These strategies include, but are not limited to, evaluation of project location alternatives.\\nA.  Management of air pollution10\\n15. In addition to the resource efficiency measures described above, the Borrow er will consid er alter-\\nnatives and implement technically and financially feasible and cost-effective\\n11 options12 to avoid or \\nminimize project-related air emissions during the design, construction and operation of the project.\\n16. As part of the environmental and social assess-\\nment of the project, the Bor rower will characterize \\nand estimate sources of air pollution related to the \\n8 Such as air, surface and groundwater and soils.\\n9 Assimilative capacity refers to the capacity of the environment \\nfor absorbing an incremental load of pollutants while remaining below a threshold of unacceptable risk to human health and the environment.\\n10 ‘Air pollution’ refers to the release of air pollutants (often \\nassociated with the combustion of fossil fuels), such as nitrogen oxides (NO\\nx), sulfur dioxide (SO2), carbon monoxide (CO), particu-\\nlate matter (PM), as well as other contaminants including GHGs.\\n11 Cost-effectiveness is determined according to the capital and \\noperational cost and financial benefits of the options considered over the life of the project. \\n12 The options for reducing or preventing air pollution may \\ninclude a combination of approaches such as: enhancing energy efficiency, process modification, selection of fuels or other mate-rials with less polluting emissions, and application of emissions control techniques. Options for reducing GHG emissions may include alternative project locations; adoption of renewable or low carbon energy sources; alternatives to refrigerants with high global warming potential; more sustainable agricultural, forestry and livestock management practices; the reduction of fugitive emissions and gas flaring; carbon sequestration and storage; sustainable transport alternatives; and proper waste manage-ment practices.project.13 This will include an estimate of gross GHG \\nemissions resulting from the project, providing that such estimation is technically and financially fea-sible. Where the Borrower d oes not h ave the capac-\\nity to deve lop the estimate of GHG emissions, the \\nBank will provide assistanc e to the Borrowe r.\\n14 For \\nprojects that have diverse and small sources of emissions (for e xample, community-driv en deve l-\\nopment projects) or where emissions are not likely to be significant (for example, projects in education and social protection), GHG estimations will not be required. \\nB.  Management of hazardous  \\nand nonhazardous wastes\\n17. The Bor rower will av oid the generation of haz-\\nardous and nonhazardous waste.15 Where waste \\ngeneration cannot be avoid ed, the Bor rower will \\nminimize the generation of waste, and reuse, recy-cle and recover waste in a manner that is safe for human health and the environment. Where waste cannot be reused, recycled or recovered, the Bor-rower will treat, destroy, or dispose of it in an envi-ronmentally sound and safe manner that includes the appropriate control of emissions and residues resulting from the handling and processing of the waste material. \\n18. If the generated waste is considered hazardous,\\n16 \\nthe Bor rower will comply with e xisting requirements \\nfor management (including storage, transporta-tion and disposal) of hazardous wastes including national legislation and applicable international conventions, including those relating to trans-boundary movement. Where such requirements are absent, the Bor rower will adopt GIIP alt ernatives for \\nits environmentally sound and safe management and disposal.', 'mimetype': 'text/plain', 'start_char_idx': 0, 'end_char_idx': 4531, 'text_template': '{metadata_str}\\n\\n{content}', 'metadata_template': '{key}: {value}', 'metadata_seperator': '\\n'}, 'score': 0.8390745170768658}, {'node': {'id_': 'c58d63d0-2db5-4e34-8780-05b44b52a257', 'embedding': None, 'metadata': {'page_label': '54', 'file_name': 'Environmental-and-Social-Framework 3.pdf', 'file_path': 'C:\\\\Users\\\\scruple077\\\\Documents\\\\GitHub\\\\msc-ort-uy-thesis\\\\services\\\\graph-generation\\\\data\\\\03_processed\\\\Environmental-and-Social-Framework 3.pdf', 'file_type': 'application/pdf', 'file_size': 241851, 'creation_date': '2024-07-17', 'last_modified_date': '2024-09-03'}, 'excluded_embed_metadata_keys': ['file_name', 'file_type', 'file_size', 'creation_date', 'last_modified_date', 'last_accessed_date'], 'excluded_llm_metadata_keys': ['file_name', 'file_type', 'file_size', 'creation_date', 'last_modified_date', 'last_accessed_date'], 'relationships': {'1': {'node_id': '8dd505cc-6fd7-4c4c-8586-67c9deaecf8b', 'node_type': '4', 'metadata': {'page_label': '54', 'file_name': 'Environmental-and-Social-Framework 3.pdf', 'file_path': 'C:\\\\Users\\\\scruple077\\\\Documents\\\\GitHub\\\\msc-ort-uy-thesis\\\\services\\\\graph-generation\\\\data\\\\03_processed\\\\Environmental-and-Social-Framework 3.pdf', 'file_type': 'application/pdf', 'file_size': 241851, 'creation_date': '2024-07-17', 'last_modified_date': '2024-09-03'}, 'hash': 'f4b70345c5d8ffec893d22dbd2ac9de9a866de3990d29f9a412891677f552a41'}, '3': {'node_id': '2642abb2-c244-43f6-9371-f7af0af8b5d2', 'node_type': '1', 'metadata': {}, 'hash': '817e02c6e2eb8a7c73394d7191848d7ee3a9ad0db1f73a1fe9758b676d58bdda'}}, 'text': '40measures in accordance with the mitigation hierar-\\nchy. The measures will be proportionate to the risks and impacts associated with the project and consis-tent with GIIP, in the first instance the EHSGs. \\nResource efficiency\\n5. The Bor rower will implement technically and \\nfinancially feasible measures for improving efficient consumption of energy, water and raw materials, as well as other resources. Such measures will inte-grate the principles of cleaner production into prod-uct design and production processes to conserve raw materials, energy and water, as well as other resources. Where benchmarking data are available, the Bor rower will make a comparison to establish \\nthe relative level of efficiency.\\nA.  Energy use\\n6. The efficient use of energy is an important way \\nin which the Bor rower can contribute to sustain-\\nable devel opment. When the project is a potentially \\nsignificant user of energy, in addition to applying the resource efficiency requirements of this ESS, the Bor rower will adopt measures specified in the \\nEHSGs to optimize energy usage, to the extent tech-nically and financially feasible. \\nB.  Water use\\n7. When the project is a potentially significant user of water or will have potentially significant impacts on water quality, in addition to applying the resource efficiency requirements of this ESS, the Borrower will adopt measures, to the extent techni-cally and financially feasible, that avoid or minimize water usage so that the project’s water use does not have significant adverse impacts on communities, other users and the environment. These measures include, but are not limited to, the use of additional technically feasible water conservation measures within the Bor rower’s operations, the use of alter-\\nnative water supplies, water consumption offsets to maintain total demand for water resources within the available supply, and evaluation of alternative project locations.\\n8. For projects with a high water demand that have \\npotentially significant adverse impacts on commu-nities, other users or the environment, the following will apply: \\nϘ A detailed water balance will be devel-\\noped, maintained, monitored and reported periodically; \\nϘ Opportunities for improvement in water use effi-\\nciency will be identified and implemented; Ϙ Specific water use (measured by volume of water \\nused per unit production) will be assessed; and \\nϘ Operations must be benchmarked to available \\nindustry standards of water use efficiency. \\n9. The Bor rower will assess, as part of the envi-\\nronmental and social assessment, the potential cumulative impacts of water use upon communities, other users and the environment and will identify and implement appropriate mitigation measures. \\nC.  Raw material use\\n10. When the project is a potentially significant user of raw materials, in addition to applying the resource efficiency requirements of this ESS, the Borrow er \\nwill adopt measures\\n4 specified in the EHSGs and \\nother GIIP to support efficient use of raw materials, to the extent technically and financially feasible.\\nVÓÅÅòí³ÓÌ\\x03ß â\\xa0ý\\xa0Ìí³ÓÌ\\x03\\x89Ì\\x9cНË\\x89Ì\\x89«\\xa0Ë\\xa0Ìí\\n11. The Bor rower will av oid the release of pollutants \\nor, when avoidance is not feasible, minimize and control the concentration and mass flow of their release using the performanc e levels and measures \\nspecified in national law or the EHSGs, whichever is most stringent. This applies to the release of pol-lutants to air, water and land due to routine, non-routine, and accidental circumstances, and with the potential for local, regional, and transboundary impacts. \\n12. Where the project involves historical pollution,\\n5 \\nthe Bor rower will establish a process to identify the \\nresponsible party. If the historical pollution could pose a significant risk to human health or the envi-ronment, the Bor rower will undertake a health \\nand safety risk assessment\\n6 of the existing pol-\\nlution which may affect communities, workers and the environment. Any remediation of the site will be appropriately undertaken in accordance with national law and GIIP, whichever is most stringent.\\n7\\n4 These measures can include reuse or recycling of materials. \\nThe Borrower will seek to reduce or eliminate the use of toxic or hazardous raw materials.\\n5 In this context historical pollution is defined as pollution from \\npast activities affecting land and water resources for which no party has assumed or been assigned responsibility to address and carry out the required remediation.\\n6 Such assessment will follow a risk-based approach consistent \\nwith GIIP, in the first instance the EHSGs.', 'mimetype': 'text/plain', 'start_char_idx': 0, 'end_char_idx': 4587, 'text_template': '{metadata_str}\\n\\n{content}', 'metadata_template': '{key}: {value}', 'metadata_seperator': '\\n'}, 'score': 0.8328629675581547}], 'metadata': {'1857c83c-02b5-4e71-ac57-1036f89edb2c': {'page_label': '53', 'file_name': 'Environmental-and-Social-Framework 3.pdf', 'file_path': 'C:\\\\Users\\\\scruple077\\\\Documents\\\\GitHub\\\\msc-ort-uy-thesis\\\\services\\\\graph-generation\\\\data\\\\03_processed\\\\Environmental-and-Social-Framework 3.pdf', 'file_type': 'application/pdf', 'file_size': 241851, 'creation_date': '2024-07-17', 'last_modified_date': '2024-09-03'}, 'd8222361-5889-46fb-9624-308d20e2b052': {'page_label': '55', 'file_name': 'Environmental-and-Social-Framework 3.pdf', 'file_path': 'C:\\\\Users\\\\scruple077\\\\Documents\\\\GitHub\\\\msc-ort-uy-thesis\\\\services\\\\graph-generation\\\\data\\\\03_processed\\\\Environmental-and-Social-Framework 3.pdf', 'file_type': 'application/pdf', 'file_size': 241851, 'creation_date': '2024-07-17', 'last_modified_date': '2024-09-03'}, 'c58d63d0-2db5-4e34-8780-05b44b52a257': {'page_label': '54', 'file_name': 'Environmental-and-Social-Framework 3.pdf', 'file_path': 'C:\\\\Users\\\\scruple077\\\\Documents\\\\GitHub\\\\msc-ort-uy-thesis\\\\services\\\\graph-generation\\\\data\\\\03_processed\\\\Environmental-and-Social-Framework 3.pdf', 'file_type': 'application/pdf', 'file_size': 241851, 'creation_date': '2024-07-17', 'last_modified_date': '2024-09-03'}}}\n"
     ]
    }
   ],
   "source": [
    "import requests\n",
    "\n",
    "# Define the URL of your FastAPI endpoint\n",
    "url = \"http://localhost:8000/query-baseline-rag\"\n",
    "\n",
    "import json\n",
    "\n",
    "body = {\"query\": \"Environmental and Social Framework\", \"num_retrieved_docs\": 3}\n",
    "\n",
    "# Send the POST request\n",
    "response = requests.post(\n",
    "    url,\n",
    "    # files=files,  # Send the file\n",
    "    json=body,  # Send the JSON schema\n",
    ")\n",
    "\n",
    "# Print the response from the server\n",
    "print(response.status_code)\n",
    "print(response.json())\n",
    "response_json = response.json()"
   ]
  },
  {
   "cell_type": "code",
   "execution_count": 38,
   "metadata": {},
   "outputs": [
    {
     "data": {
      "text/plain": [
       "dict_keys(['response', 'source_nodes', 'metadata'])"
      ]
     },
     "execution_count": 38,
     "metadata": {},
     "output_type": "execute_result"
    }
   ],
   "source": [
    "response_json.keys()"
   ]
  },
  {
   "cell_type": "code",
   "execution_count": 39,
   "metadata": {},
   "outputs": [
    {
     "data": {
      "text/plain": [
       "6"
      ]
     },
     "execution_count": 39,
     "metadata": {},
     "output_type": "execute_result"
    }
   ],
   "source": [
    "len(response_json[\"source_nodes\"])"
   ]
  },
  {
   "cell_type": "code",
   "execution_count": 41,
   "metadata": {},
   "outputs": [
    {
     "data": {
      "text/plain": [
       "'The Environmental and Social Framework outlines the requirements and objectives for promoting sustainable resource use, pollution prevention, and management throughout the project life cycle. It emphasizes the importance of addressing pollution to air, water, and land, and the efficient use of resources such as energy, water, and raw materials. The framework also includes specific measures for managing air pollution, hazardous and non-hazardous waste, chemicals, hazardous materials, and pesticides. It aims to minimize adverse impacts on human health and the environment, and to ensure compliance with national laws and international standards.'"
      ]
     },
     "execution_count": 41,
     "metadata": {},
     "output_type": "execute_result"
    }
   ],
   "source": [
    "response_json[\"response\"]"
   ]
  },
  {
   "cell_type": "code",
   "execution_count": 33,
   "metadata": {},
   "outputs": [
    {
     "data": {
      "text/plain": [
       "'41\\nESS3 13. To address potential adverse project impacts \\non human health and the environment,8 the Bor-\\nrower will consider relevant factors, including, for example: (a) existing ambient conditions; (b) in areas already impacted by pollution, the remaining assimilative capacity\\n9 of the environment; (c) Нexist-\\ning and future land use; (d) the project’s proximity to areas of importance to biodiversity; (e) the potential for cumulative impacts with uncertain and/or irre-versible consequences; and (f) impacts of climate change. \\n14. In addition to applying resource efficiency and \\npollution control measures as required in this ESS, when the project has the potential to consti-tute a significant source of emissions in an already degraded area, the Bor rower will consid er addi-\\ntional strategies and adopt measures that avoid or minimize negative effects. These strategies include, but are not limited to, evaluation of project location alternatives.\\nA.  Management of air pollution10\\n15. In addition to the resource efficiency measures described above, the Borrow er will consid er alter-\\nnatives and implement technically and financially feasible and cost-effective\\n11 options12 to avoid or \\nminimize project-related air emissions during the design, construction and operation of the project.\\n16. As part of the environmental and social assess-\\nment of the project, the Bor rower will characterize \\nand estimate sources of air pollution related to the \\n8 Such as air, surface and groundwater and soils.\\n9 Assimilative capacity refers to the capacity of the environment \\nfor absorbing an incremental load of pollutants while remaining below a threshold of unacceptable risk to human health and the environment.\\n10 ‘Air pollution’ refers to the release of air pollutants (often \\nassociated with the combustion of fossil fuels), such as nitrogen oxides (NO\\nx), sulfur dioxide (SO2), carbon monoxide (CO), particu-\\nlate matter (PM), as well as other contaminants including GHGs.\\n11 Cost-effectiveness is determined according to the capital and \\noperational cost and financial benefits of the options considered over the life of the project. \\n12 The options for reducing or preventing air pollution may \\ninclude a combination of approaches such as: enhancing energy efficiency, process modification, selection of fuels or other mate-rials with less polluting emissions, and application of emissions control techniques. Options for reducing GHG emissions may include alternative project locations; adoption of renewable or low carbon energy sources; alternatives to refrigerants with high global warming potential; more sustainable agricultural, forestry and livestock management practices; the reduction of fugitive emissions and gas flaring; carbon sequestration and storage; sustainable transport alternatives; and proper waste manage-ment practices.project.13 This will include an estimate of gross GHG \\nemissions resulting from the project, providing that such estimation is technically and financially fea-sible. Where the Borrower d oes not h ave the capac-\\nity to deve lop the estimate of GHG emissions, the \\nBank will provide assistanc e to the Borrowe r.\\n14 For \\nprojects that have diverse and small sources of emissions (for e xample, community-driv en deve l-\\nopment projects) or where emissions are not likely to be significant (for example, projects in education and social protection), GHG estimations will not be required. \\nB.  Management of hazardous  \\nand nonhazardous wastes\\n17. The Bor rower will av oid the generation of haz-\\nardous and nonhazardous waste.15 Where waste \\ngeneration cannot be avoid ed, the Bor rower will \\nminimize the generation of waste, and reuse, recy-cle and recover waste in a manner that is safe for human health and the environment. Where waste cannot be reused, recycled or recovered, the Bor-rower will treat, destroy, or dispose of it in an envi-ronmentally sound and safe manner that includes the appropriate control of emissions and residues resulting from the handling and processing of the waste material. \\n18. If the generated waste is considered hazardous,\\n16 \\nthe Bor rower will comply with e xisting requirements \\nfor management (including storage, transporta-tion and disposal) of hazardous wastes including national legislation and applicable international conventions, including those relating to trans-boundary movement. Where such requirements are absent, the Bor rower will adopt GIIP alt ernatives for \\nits environmentally sound and safe management and disposal.'"
      ]
     },
     "execution_count": 33,
     "metadata": {},
     "output_type": "execute_result"
    }
   ],
   "source": [
    "response_json[\"source_nodes\"][1][\"node\"][\"text\"]"
   ]
  },
  {
   "cell_type": "markdown",
   "metadata": {},
   "source": [
    "## Query Free Form"
   ]
  },
  {
   "cell_type": "code",
   "execution_count": 43,
   "metadata": {},
   "outputs": [
    {
     "name": "stdout",
     "output_type": "stream",
     "text": [
      "200\n",
      "{'response': {'response': 'The Environmental and Social Framework outlines the requirements and objectives for managing resource efficiency, pollution prevention, and the impacts of economic activities and urbanization on the environment and human health. It emphasizes the sustainable use of resources, minimizing pollution, and managing risks associated with hazardous materials and pesticides. The framework also includes guidelines for addressing historical pollution and ensuring that all activities comply with international standards and best practices.', 'source_nodes': [{'node': {'id_': '8173125c-37f3-48a3-979a-fb7fe036d942', 'embedding': None, 'metadata': {'page_label': '53', 'file_name': 'Environmental-and-Social-Framework 3.pdf', 'file_path': 'C:\\\\Users\\\\scruple077\\\\Documents\\\\GitHub\\\\msc-ort-uy-thesis\\\\services\\\\graph-generation\\\\data\\\\03_processed\\\\Environmental-and-Social-Framework 3.pdf', 'file_type': 'application/pdf', 'file_size': 241851, 'creation_date': '2024-07-17', 'last_modified_date': '2024-07-17'}, 'excluded_embed_metadata_keys': ['file_name', 'file_type', 'file_size', 'creation_date', 'last_modified_date', 'last_accessed_date'], 'excluded_llm_metadata_keys': ['file_name', 'file_type', 'file_size', 'creation_date', 'last_modified_date', 'last_accessed_date'], 'relationships': {'1': {'node_id': '93529468-9664-4a11-b4c0-8ad5d64bd0bb', 'node_type': '4', 'metadata': {'page_label': '53', 'file_name': 'Environmental-and-Social-Framework 3.pdf', 'file_path': 'C:\\\\Users\\\\scruple077\\\\Documents\\\\GitHub\\\\msc-ort-uy-thesis\\\\services\\\\graph-generation\\\\data\\\\03_processed\\\\Environmental-and-Social-Framework 3.pdf', 'file_type': 'application/pdf', 'file_size': 241851, 'creation_date': '2024-07-17', 'last_modified_date': '2024-07-17'}, 'hash': '72bbfc1d9fc128618c68b4105c4e61f6d5ee1a33f888f1ebaf17c2ddcc84a544'}}, 'text': 'Here are some facts extracted from the provided text:\\n\\nPollution -> Threatens -> Eco-system services\\nPollution -> Threatens -> Environment\\n\\n39\\nESS3 \\nResource Efficiency  \\nand Pollution Prevention \\nand Management3\\nRe\\nanIntroduction\\n1. ESS3 recognizes that economic activity \\nand urbanization often generate pollution to air, water, and land, and consume finite resources that may threaten people, eco-system services and the environment at the local, regional, and gl obal lev els. The cur-\\nrent and projected atmospheric concentra-tion of greenhouse gases (GHG) threatens the welfare of current and future genera-tions. At the same time, more efficient and effective r esource  use, pollution preven-\\ntion and GHG emission avoidance, and mitigation technologies and practices have become more accessible and achievable.2. This ESS sets out the requirements to address \\nresource efficiency and pollution1 prevention and \\nmanagement2 throughout the project life cycle \\nconsistent with GIIP.\\nObjectives\\nϘTo promote the sustainable use of resources, including energy, water and raw materials.\\nϘTo avoid or minimize adverse impacts on human health and the environment by avoiding or mini-mizing pollution from project activities.\\nϘTo avoid or minimize project-related emissions of short and long-lived climate pollutants.\\n3\\nϘTo avoid or minimize generation of hazardous and non-hazardous waste.\\nϘTo minimize and manage the risks and impacts associated with pesticide use.\\nScope of application\\n3. The applicability of this ESS is established during the environmental and social assessment described in ESS1.\\nRequirements\\n4. The Bor rower will consider ambient condi-\\ntions and apply technically and financially fea-sible resource  efficiency and pollution p revention \\n1The term “pollution” is used to refer to both hazardous and non-\\nhazardous chemical pollutants in the solid, liquid, or gaseous phases, and includes other components such as thermal dis-charge to water, emissions of short- and long-lived climate pollutants, nuisance odors, noise, vibration, radiation, electro-magnetic energy, and the creation of potential visual impacts including light.\\n2Unless otherwise noted in this ESS, “pollution management” \\nincludes measures designed to avoid or minimize emissions of pollutants, including short- and long-lived climate pollutants, given that measures which tend to encourage reduction in energy and raw material use, as well as emissions of local pollutants, also generally result in encouraging a reduction of emissions of short- and long-lived climate pollutants.\\n3This includes all GHGs and black carbon (BC).', 'mimetype': 'text/plain', 'start_char_idx': 0, 'end_char_idx': 2481, 'text_template': '{metadata_str}\\n\\n{content}', 'metadata_template': '{key}: {value}', 'metadata_seperator': '\\n'}, 'score': 0.8363943118109262}, {'node': {'id_': 'a9a90a12-222b-42ec-a621-2e484d9a7625', 'embedding': None, 'metadata': {'page_label': '54', 'file_name': 'Environmental-and-Social-Framework 3.pdf', 'file_path': 'C:\\\\Users\\\\scruple077\\\\Documents\\\\GitHub\\\\msc-ort-uy-thesis\\\\services\\\\graph-generation\\\\data\\\\03_processed\\\\Environmental-and-Social-Framework 3.pdf', 'file_type': 'application/pdf', 'file_size': 241851, 'creation_date': '2024-07-17', 'last_modified_date': '2024-07-17'}, 'excluded_embed_metadata_keys': ['file_name', 'file_type', 'file_size', 'creation_date', 'last_modified_date', 'last_accessed_date'], 'excluded_llm_metadata_keys': ['file_name', 'file_type', 'file_size', 'creation_date', 'last_modified_date', 'last_accessed_date'], 'relationships': {'1': {'node_id': '7f7481e4-a231-401f-af56-9e5868c94653', 'node_type': '4', 'metadata': {'page_label': '54', 'file_name': 'Environmental-and-Social-Framework 3.pdf', 'file_path': 'C:\\\\Users\\\\scruple077\\\\Documents\\\\GitHub\\\\msc-ort-uy-thesis\\\\services\\\\graph-generation\\\\data\\\\03_processed\\\\Environmental-and-Social-Framework 3.pdf', 'file_type': 'application/pdf', 'file_size': 241851, 'creation_date': '2024-07-17', 'last_modified_date': '2024-07-17'}, 'hash': '13efa64d61e22822561596a403eae4deac8b937ca04d4b3d38cd9013a484c5cb'}, '2': {'node_id': '314c9d89-3640-4c6b-afb1-7f073a2a84a2', 'node_type': '1', 'metadata': {'page_label': '54', 'file_name': 'Environmental-and-Social-Framework 3.pdf', 'file_path': 'C:\\\\Users\\\\scruple077\\\\Documents\\\\GitHub\\\\msc-ort-uy-thesis\\\\services\\\\graph-generation\\\\data\\\\03_processed\\\\Environmental-and-Social-Framework 3.pdf', 'file_type': 'application/pdf', 'file_size': 241851, 'creation_date': '2024-07-17', 'last_modified_date': '2024-07-17'}, 'hash': '590284096223481578b185a7916db480b034ae97ff0c6b900ba4850a20c9fb90'}}, 'text': 'Here are some facts extracted from the provided text:\\n\\nAssessment -> Affect -> Environment\\n\\n12. Where the project involves historical pollution,\\n5 \\nthe Bor rower will establish a process to identify the \\nresponsible party. If the historical pollution could pose a significant risk to human health or the envi-ronment, the Bor rower will undertake a health \\nand safety risk assessment\\n6 of the existing pol-\\nlution which may affect communities, workers and the environment. Any remediation of the site will be appropriately undertaken in accordance with national law and GIIP, whichever is most stringent.\\n7\\n4 These measures can include reuse or recycling of materials. \\nThe Borrower will seek to reduce or eliminate the use of toxic or hazardous raw materials.\\n5 In this context historical pollution is defined as pollution from \\npast activities affecting land and water resources for which no party has assumed or been assigned responsibility to address and carry out the required remediation.\\n6 Such assessment will follow a risk-based approach consistent \\nwith GIIP, in the first instance the EHSGs.\\n7 If one or more third parties are responsible for the historical \\npollution, the Bor rower will consider seeking re course from such \\nparties so that such pollution is appropriately remediated. The Borrower will implement adequate measures so that historical pollution at the site does not pose a significant risk to the health and safety of workers and communities.', 'mimetype': 'text/plain', 'start_char_idx': 3577, 'end_char_idx': 4955, 'text_template': '{metadata_str}\\n\\n{content}', 'metadata_template': '{key}: {value}', 'metadata_seperator': '\\n'}, 'score': 0.8356764618702851}, {'node': {'id_': 'fbecc6cc-f203-44cd-8e70-17255788e65c', 'embedding': None, 'metadata': {'page_label': '56', 'file_name': 'Environmental-and-Social-Framework 3.pdf', 'file_path': 'C:\\\\Users\\\\scruple077\\\\Documents\\\\GitHub\\\\msc-ort-uy-thesis\\\\services\\\\graph-generation\\\\data\\\\03_processed\\\\Environmental-and-Social-Framework 3.pdf', 'file_type': 'application/pdf', 'file_size': 241851, 'creation_date': '2024-07-17', 'last_modified_date': '2024-07-17'}, 'excluded_embed_metadata_keys': ['file_name', 'file_type', 'file_size', 'creation_date', 'last_modified_date', 'last_accessed_date'], 'excluded_llm_metadata_keys': ['file_name', 'file_type', 'file_size', 'creation_date', 'last_modified_date', 'last_accessed_date'], 'relationships': {'1': {'node_id': '419d5f64-ca07-44cc-b8d5-4f43c371b67f', 'node_type': '4', 'metadata': {'page_label': '56', 'file_name': 'Environmental-and-Social-Framework 3.pdf', 'file_path': 'C:\\\\Users\\\\scruple077\\\\Documents\\\\GitHub\\\\msc-ort-uy-thesis\\\\services\\\\graph-generation\\\\data\\\\03_processed\\\\Environmental-and-Social-Framework 3.pdf', 'file_type': 'application/pdf', 'file_size': 241851, 'creation_date': '2024-07-17', 'last_modified_date': '2024-07-17'}, 'hash': '78b70acd62cbf0eff13f25f1de1d8f33042884cdf4c50b571d5485f1475f04ea'}, '2': {'node_id': '8bfb721f-40e2-4a13-98c6-8eef6865feba', 'node_type': '1', 'metadata': {'page_label': '56', 'file_name': 'Environmental-and-Social-Framework 3.pdf', 'file_path': 'C:\\\\Users\\\\scruple077\\\\Documents\\\\GitHub\\\\msc-ort-uy-thesis\\\\services\\\\graph-generation\\\\data\\\\03_processed\\\\Environmental-and-Social-Framework 3.pdf', 'file_type': 'application/pdf', 'file_size': 241851, 'creation_date': '2024-07-17', 'last_modified_date': '2024-07-17'}, 'hash': 'af25d1fb0dc22ae74a8f6684f35fbdd60420a7a4b57cc0dbeb1da59afc6b9090'}}, 'text': 'Here are some facts extracted from the provided text:\\n\\nRisk -> To -> Environment\\n\\nFor any other pesticide products that poses other potentially serious risk to human health or the environment and that are identified in internationally recognized classifica-tion and labelling systems, the Borrow er will not use \\npesticide formulations of products if: (a) the country lacks restrictions on their distribution, management and use; or (b) they are likely to be used by, or be accessible to, lay personnel, farmers, or others with-out training, equipment, and facilities to handle, store, and apply these products properly.\\n23. The following additional criteria apply to the \\nselection and use of such pesticides: (a) they will have negligible adverse human health effects; (b)Нthey will be shown to be effective against the tar-\\nget species; and (c) they will have minimal effect on nontarget species and the natural environment. The methods, timing, and frequency of pesticide appli-cation are aimed to minimize damage to natural enemies. Pesticides used in public health programs will be demonstrated to be safe for inhabitants and domestic animals in the treated areas, as well as for personnel applying them; (d) their use will take into account the need to  prevent the deve lopment \\nof resistance in pests; and (e) where registration is required, all pesticides will be registered or other-wise authorized for use on the crops and livestock, or for the use patterns, for which they are intended under the project.\\n24. The Bor rower will ensure that all pesticides \\nused will be manufactured, formulated, packaged, labeled, handled, stored, disposed of, and applied according to relevant international standards and codes of conduct, as well as the EHSGs.\\n20 This assessment is made in the context of the environmental \\nand social impact assessment.', 'mimetype': 'text/plain', 'start_char_idx': 3596, 'end_char_idx': 5366, 'text_template': '{metadata_str}\\n\\n{content}', 'metadata_template': '{key}: {value}', 'metadata_seperator': '\\n'}, 'score': 0.8356764618702851}, {'node': {'id_': '43b47c1f-f716-4e89-95be-ff433b92bc11', 'embedding': None, 'metadata': {'page_label': '57', 'file_name': 'Environmental-and-Social-Framework 3.pdf', 'file_path': 'C:\\\\Users\\\\scruple077\\\\Documents\\\\GitHub\\\\msc-ort-uy-thesis\\\\services\\\\graph-generation\\\\data\\\\03_processed\\\\Environmental-and-Social-Framework 3.pdf', 'file_type': 'application/pdf', 'file_size': 241851, 'creation_date': '2024-07-17', 'last_modified_date': '2024-07-17'}, 'excluded_embed_metadata_keys': ['file_name', 'file_type', 'file_size', 'creation_date', 'last_modified_date', 'last_accessed_date'], 'excluded_llm_metadata_keys': ['file_name', 'file_type', 'file_size', 'creation_date', 'last_modified_date', 'last_accessed_date'], 'relationships': {'1': {'node_id': '6c659d92-9616-44e5-8053-b77dc6591053', 'node_type': '4', 'metadata': {'page_label': '57', 'file_name': 'Environmental-and-Social-Framework 3.pdf', 'file_path': 'C:\\\\Users\\\\scruple077\\\\Documents\\\\GitHub\\\\msc-ort-uy-thesis\\\\services\\\\graph-generation\\\\data\\\\03_processed\\\\Environmental-and-Social-Framework 3.pdf', 'file_type': 'application/pdf', 'file_size': 241851, 'creation_date': '2024-07-17', 'last_modified_date': '2024-07-17'}, 'hash': 'e36b616b1f4da3b062caa07b6ac49438b3ab7b74a5822683976de66644fe1e81'}}, 'text': 'Here are some facts extracted from the provided text:\\n\\nBorrower -> Consider -> Existing ambient conditions\\n\\n43\\nESS3 25. For any project involving significant pest man-\\nagement issues21 or any project contemplating \\nactivities that may lead to significant pest and pesticide management issues,\\n22 the Bor rower will \\n21 Such issues would include: (a) migratory locust control; (b) Нmos-\\nquito or other disease vector control; (c) bird control; (d) Нrodent \\ncontrol, etc.\\n22 Such as: (a) new land-use devel opment or changed cultivation \\npractices in an area; (b) significant expansion into new areas; (c)Нdiversification into new crops in agriculture; (d) intensifica-\\ntion of existing low-technology systems; (e) proposed procure-ment of relatively hazardous pest control products or methods; or (f) specific environmental or health concerns (e.g., proximity of protected areas or important aquatic resources; worker safety).prepare a Pest Management Plan (PMP).23 A pest \\nmanagement plan will also be prepared when pro-posed financing of pest control products represents a large component of the project.\\n24\\n23 Depending on the nature and the scale of the risks and impacts \\nof the project, the elements of a PMP may be included as part of the ESCP and preparation of a stand-alone PMP may not be necessary. \\n24 This is when financing of substantial quantities of pesticides \\nis envisaged. A pest management plan is not required for the procurement or use of impregnated bednets for malaria control, or of insecticides for intradomiciliary spraying for malaria control identified in internationally recognized classification systems.', 'mimetype': 'text/plain', 'start_char_idx': 0, 'end_char_idx': 1526, 'text_template': '{metadata_str}\\n\\n{content}', 'metadata_template': '{key}: {value}', 'metadata_seperator': '\\n'}, 'score': 0.8142902241272129}], 'metadata': {'8173125c-37f3-48a3-979a-fb7fe036d942': {'page_label': '53', 'file_name': 'Environmental-and-Social-Framework 3.pdf', 'file_path': 'C:\\\\Users\\\\scruple077\\\\Documents\\\\GitHub\\\\msc-ort-uy-thesis\\\\services\\\\graph-generation\\\\data\\\\03_processed\\\\Environmental-and-Social-Framework 3.pdf', 'file_type': 'application/pdf', 'file_size': 241851, 'creation_date': '2024-07-17', 'last_modified_date': '2024-07-17'}, 'a9a90a12-222b-42ec-a621-2e484d9a7625': {'page_label': '54', 'file_name': 'Environmental-and-Social-Framework 3.pdf', 'file_path': 'C:\\\\Users\\\\scruple077\\\\Documents\\\\GitHub\\\\msc-ort-uy-thesis\\\\services\\\\graph-generation\\\\data\\\\03_processed\\\\Environmental-and-Social-Framework 3.pdf', 'file_type': 'application/pdf', 'file_size': 241851, 'creation_date': '2024-07-17', 'last_modified_date': '2024-07-17'}, 'fbecc6cc-f203-44cd-8e70-17255788e65c': {'page_label': '56', 'file_name': 'Environmental-and-Social-Framework 3.pdf', 'file_path': 'C:\\\\Users\\\\scruple077\\\\Documents\\\\GitHub\\\\msc-ort-uy-thesis\\\\services\\\\graph-generation\\\\data\\\\03_processed\\\\Environmental-and-Social-Framework 3.pdf', 'file_type': 'application/pdf', 'file_size': 241851, 'creation_date': '2024-07-17', 'last_modified_date': '2024-07-17'}, '43b47c1f-f716-4e89-95be-ff433b92bc11': {'page_label': '57', 'file_name': 'Environmental-and-Social-Framework 3.pdf', 'file_path': 'C:\\\\Users\\\\scruple077\\\\Documents\\\\GitHub\\\\msc-ort-uy-thesis\\\\services\\\\graph-generation\\\\data\\\\03_processed\\\\Environmental-and-Social-Framework 3.pdf', 'file_type': 'application/pdf', 'file_size': 241851, 'creation_date': '2024-07-17', 'last_modified_date': '2024-07-17'}}}}\n"
     ]
    }
   ],
   "source": [
    "import requests\n",
    "\n",
    "# Define the URL of your FastAPI endpoint\n",
    "url = \"http://localhost:8000/query-free-form\"\n",
    "\n",
    "import json\n",
    "\n",
    "body = {\"query\": \"Environmental and Social Framework\", \"num_docs\": 3}\n",
    "\n",
    "# Send the POST request\n",
    "response = requests.post(\n",
    "    url,\n",
    "    # files=files,  # Send the file\n",
    "    json=body,  # Send the JSON schema\n",
    ")\n",
    "\n",
    "# Print the response from the server\n",
    "print(response.status_code)\n",
    "print(response.json())\n",
    "response_json = response.json()"
   ]
  },
  {
   "cell_type": "markdown",
   "metadata": {},
   "source": [
    "## Query Schema Guided"
   ]
  },
  {
   "cell_type": "code",
   "execution_count": 44,
   "metadata": {},
   "outputs": [
    {
     "name": "stdout",
     "output_type": "stream",
     "text": [
      "200\n",
      "{'response': {'response': 'The Environmental and Social Framework requires the borrower to characterize and estimate sources of air pollution related to the project as part of the environmental and social assessment. The borrower must also consider relevant factors to address potential adverse impacts on human health and the environment. Additionally, if the project has the potential to be a significant source of emissions in an already degraded area, the borrower must adopt measures to avoid or minimize negative effects.\\n\\nFor pesticide products that pose serious risks to human health or the environment, the borrower is prohibited from using them if the country lacks restrictions on their distribution, management, and use, or if they are likely to be used by untrained personnel. The selection and use of such pesticides must meet criteria ensuring negligible adverse human health effects, effectiveness against target species, minimal impact on non-target species and the environment, and prevention of resistance development in pests. All pesticides must be registered or authorized for their intended use and comply with international standards and codes of conduct.', 'source_nodes': [{'node': {'id_': '13e8f313-d997-4786-b05c-1819178e616d', 'embedding': None, 'metadata': {'page_label': '56', 'file_name': 'Environmental-and-Social-Framework 3.pdf', 'file_path': 'C:\\\\Users\\\\scruple077\\\\Documents\\\\GitHub\\\\msc-ort-uy-thesis\\\\services\\\\graph-generation\\\\data\\\\03_processed\\\\Environmental-and-Social-Framework 3.pdf', 'file_type': 'application/pdf', 'file_size': 241851, 'creation_date': '2024-07-17', 'last_modified_date': '2024-08-29'}, 'excluded_embed_metadata_keys': ['file_name', 'file_type', 'file_size', 'creation_date', 'last_modified_date', 'last_accessed_date'], 'excluded_llm_metadata_keys': ['file_name', 'file_type', 'file_size', 'creation_date', 'last_modified_date', 'last_accessed_date'], 'relationships': {'1': {'node_id': '90bd749d-35fb-4c4d-b062-c4da3c05154b', 'node_type': '4', 'metadata': {'page_label': '56', 'file_name': 'Environmental-and-Social-Framework 3.pdf', 'file_path': 'C:\\\\Users\\\\scruple077\\\\Documents\\\\GitHub\\\\msc-ort-uy-thesis\\\\services\\\\graph-generation\\\\data\\\\03_processed\\\\Environmental-and-Social-Framework 3.pdf', 'file_type': 'application/pdf', 'file_size': 241851, 'creation_date': '2024-07-17', 'last_modified_date': '2024-08-29'}, 'hash': '14f4c8df35bff5b638dc43ef809a8ddc471aa3ad7cf1724feab5767a9de13946'}, '2': {'node_id': 'b1cf9d60-bc05-4d62-a31d-a2b00d41e6b2', 'node_type': '1', 'metadata': {'page_label': '56', 'file_name': 'Environmental-and-Social-Framework 3.pdf', 'file_path': 'C:\\\\Users\\\\scruple077\\\\Documents\\\\GitHub\\\\msc-ort-uy-thesis\\\\services\\\\graph-generation\\\\data\\\\03_processed\\\\Environmental-and-Social-Framework 3.pdf', 'file_type': 'application/pdf', 'file_size': 241851, 'creation_date': '2024-07-17', 'last_modified_date': '2024-08-29'}, 'hash': '1e32b3956a1783bfe471eefeebdb8680aab9fccd78953b2dc0ecf6727ec00283'}}, 'text': 'Here are some facts extracted from the provided text:\\n\\nBorrower -> MUST_COMPLY_WITH -> characterize and estimate sources of air pollution related to the project as part of the environmental and social assessment\\nBorrower -> MUST_COMPLY_WITH -> consider relevant factors to address potential adverse project impacts on human health and the environment\\nBorrower -> MUST_COMPLY_WITH -> consider additional strategies and adopt measures to avoid or minimize negative effects when the project has the potential to constitute a significant source of emissions in an already degraded area\\n\\nFor any other pesticide products that poses other potentially serious risk to human health or the environment and that are identified in internationally recognized classifica-tion and labelling systems, the Borrow er will not use \\npesticide formulations of products if: (a) the country lacks restrictions on their distribution, management and use; or (b) they are likely to be used by, or be accessible to, lay personnel, farmers, or others with-out training, equipment, and facilities to handle, store, and apply these products properly.\\n23. The following additional criteria apply to the \\nselection and use of such pesticides: (a) they will have negligible adverse human health effects; (b)Нthey will be shown to be effective against the tar-\\nget species; and (c) they will have minimal effect on nontarget species and the natural environment. The methods, timing, and frequency of pesticide appli-cation are aimed to minimize damage to natural enemies. Pesticides used in public health programs will be demonstrated to be safe for inhabitants and domestic animals in the treated areas, as well as for personnel applying them; (d) their use will take into account the need to  prevent the deve lopment \\nof resistance in pests; and (e) where registration is required, all pesticides will be registered or other-wise authorized for use on the crops and livestock, or for the use patterns, for which they are intended under the project.\\n24. The Bor rower will ensure that all pesticides \\nused will be manufactured, formulated, packaged, labeled, handled, stored, disposed of, and applied according to relevant international standards and codes of conduct, as well as the EHSGs.\\n20 This assessment is made in the context of the environmental \\nand social impact assessment.', 'mimetype': 'text/plain', 'start_char_idx': 3596, 'end_char_idx': 5366, 'text_template': '{metadata_str}\\n\\n{content}', 'metadata_template': '{key}: {value}', 'metadata_seperator': '\\n'}, 'score': 0.8381011525128877}], 'metadata': {'13e8f313-d997-4786-b05c-1819178e616d': {'page_label': '56', 'file_name': 'Environmental-and-Social-Framework 3.pdf', 'file_path': 'C:\\\\Users\\\\scruple077\\\\Documents\\\\GitHub\\\\msc-ort-uy-thesis\\\\services\\\\graph-generation\\\\data\\\\03_processed\\\\Environmental-and-Social-Framework 3.pdf', 'file_type': 'application/pdf', 'file_size': 241851, 'creation_date': '2024-07-17', 'last_modified_date': '2024-08-29'}}}}\n"
     ]
    }
   ],
   "source": [
    "import requests\n",
    "\n",
    "# Define the URL of your FastAPI endpoint\n",
    "url = \"http://localhost:8000/query-schema-guided\"\n",
    "\n",
    "import json\n",
    "\n",
    "body = {\"query\": \"Environmental and Social Framework\", \"num_docs\": 3}\n",
    "\n",
    "# Send the POST request\n",
    "response = requests.post(\n",
    "    url,\n",
    "    # files=files,  # Send the file\n",
    "    json=body,  # Send the JSON schema\n",
    ")\n",
    "\n",
    "# Print the response from the server\n",
    "print(response.status_code)\n",
    "print(response.json())\n",
    "response_json = response.json()"
   ]
  }
 ],
 "metadata": {
  "kernelspec": {
   "display_name": "Python 3",
   "language": "python",
   "name": "python3"
  },
  "language_info": {
   "codemirror_mode": {
    "name": "ipython",
    "version": 3
   },
   "file_extension": ".py",
   "mimetype": "text/x-python",
   "name": "python",
   "nbconvert_exporter": "python",
   "pygments_lexer": "ipython3",
   "version": "3.10.14"
  }
 },
 "nbformat": 4,
 "nbformat_minor": 2
}
