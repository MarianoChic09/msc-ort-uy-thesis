{
 "cells": [
  {
   "cell_type": "markdown",
   "metadata": {},
   "source": [
    "# Testing different schemas"
   ]
  },
  {
   "cell_type": "code",
   "execution_count": 1,
   "metadata": {},
   "outputs": [
    {
     "name": "stdout",
     "output_type": "stream",
     "text": [
      "c:\\Users\\scruple077\\Documents\\GitHub\\msc-ort-uy-thesis\\services\\graph-generation\\notebooks\n",
      "c:\\Users\\scruple077\\Documents\\GitHub\\msc-ort-uy-thesis\\services\\graph-generation\n"
     ]
    }
   ],
   "source": [
    "import sys\n",
    "import os\n",
    "\n",
    "print(os.getcwd())\n",
    "\n",
    "os.chdir(\"../\")\n",
    "print(os.getcwd())\n",
    "\n",
    "# Assuming the notebook is inside the 'notebooks' directory and 'src' is one level up\n",
    "# Add the src directory to the sys.path\n",
    "module_path = os.path.abspath(os.path.join(\"..\", \"src\"))\n",
    "if module_path not in sys.path:\n",
    "    sys.path.append(module_path)\n"
   ]
  },
  {
   "cell_type": "code",
   "execution_count": 12,
   "metadata": {},
   "outputs": [
    {
     "name": "stdout",
     "output_type": "stream",
     "text": [
      "200\n",
      "{'message': 'Document uploaded and index created successfully.'}\n"
     ]
    }
   ],
   "source": [
    "import requests\n",
    "\n",
    "# Define the URL of your FastAPI endpoint\n",
    "url = \"http://localhost:8000/predefined-schema-extractor\"\n",
    "\n",
    "# Define the file to upload\n",
    "file_path = r\"data\\03_processed\\Environmental-and-Social-Framework 3.pdf\"\n",
    "files = {\"file\": open(file_path, \"rb\")}\n",
    "\n",
    "# Define the JSON schema to send\n",
    "schema = {\n",
    "    \"entities\": [\"BORROWER\", \"REQUIREMENT\"],\n",
    "    \"relations\": [\"MUST_COMPLY_WITH\", \"IS_OBLIGATED_TO\"],\n",
    "    \"validation_schema\": {\n",
    "        \"BORROWER\": [\"MUST_COMPLY_WITH\"],\n",
    "        \"CONTRACTOR\": [\"IS_OBLIGATED_TO\"],\n",
    "        \"REQUIREMENT\": [],\n",
    "    },\n",
    "}\n",
    "\n",
    "# Send the POST request\n",
    "response = requests.post(\n",
    "    url,\n",
    "    files=files,  # Send the file\n",
    "    json=schema,  # Send the JSON schema\n",
    ")\n",
    "\n",
    "# Print the response from the server\n",
    "print(response.status_code)\n",
    "print(response.json())\n"
   ]
  },
  {
   "cell_type": "code",
   "execution_count": 13,
   "metadata": {},
   "outputs": [
    {
     "name": "stderr",
     "output_type": "stream",
     "text": [
      "C:\\Users\\scruple077\\AppData\\Local\\Temp\\ipykernel_36524\\1481859261.py:1: DeprecationWarning: Importing display from IPython.core.display is deprecated since IPython 7.14, please import from IPython display\n",
      "  from IPython.core.display import display, HTML\n"
     ]
    },
    {
     "data": {
      "text/html": [
       "<html>\n",
       "    <head>\n",
       "        <meta charset=\"utf-8\">\n",
       "        \n",
       "            <script src=\"lib/bindings/utils.js\"></script>\n",
       "            <link rel=\"stylesheet\" href=\"https://cdnjs.cloudflare.com/ajax/libs/vis-network/9.1.2/dist/dist/vis-network.min.css\" integrity=\"sha512-WgxfT5LWjfszlPHXRmBWHkV2eceiWTOBvrKCNbdgDYTHrT2AeLCGbF4sZlZw3UMN3WtL0tGUoIAKsu8mllg/XA==\" crossorigin=\"anonymous\" referrerpolicy=\"no-referrer\" />\n",
       "            <script src=\"https://cdnjs.cloudflare.com/ajax/libs/vis-network/9.1.2/dist/vis-network.min.js\" integrity=\"sha512-LnvoEWDFrqGHlHmDD2101OrLcbsfkrzoSpvtSQtxK3RMnRV0eOkhhBN2dXHKRrUU8p2DGRTk35n4O8nWSVe1mQ==\" crossorigin=\"anonymous\" referrerpolicy=\"no-referrer\"></script>\n",
       "            \n",
       "        \n",
       "<center>\n",
       "<h1></h1>\n",
       "</center>\n",
       "\n",
       "<!-- <link rel=\"stylesheet\" href=\"../node_modules/vis/dist/vis.min.css\" type=\"text/css\" />\n",
       "<script type=\"text/javascript\" src=\"../node_modules/vis/dist/vis.js\"> </script>-->\n",
       "        <link\n",
       "          href=\"https://cdn.jsdelivr.net/npm/bootstrap@5.0.0-beta3/dist/css/bootstrap.min.css\"\n",
       "          rel=\"stylesheet\"\n",
       "          integrity=\"sha384-eOJMYsd53ii+scO/bJGFsiCZc+5NDVN2yr8+0RDqr0Ql0h+rP48ckxlpbzKgwra6\"\n",
       "          crossorigin=\"anonymous\"\n",
       "        />\n",
       "        <script\n",
       "          src=\"https://cdn.jsdelivr.net/npm/bootstrap@5.0.0-beta3/dist/js/bootstrap.bundle.min.js\"\n",
       "          integrity=\"sha384-JEW9xMcG8R+pH31jmWH6WWP0WintQrMb4s7ZOdauHnUtxwoG2vI5DkLtS3qm9Ekf\"\n",
       "          crossorigin=\"anonymous\"\n",
       "        ></script>\n",
       "\n",
       "\n",
       "        <center>\n",
       "          <h1></h1>\n",
       "        </center>\n",
       "        <style type=\"text/css\">\n",
       "\n",
       "             #mynetwork {\n",
       "                 width: 100%;\n",
       "                 height: 600px;\n",
       "                 background-color: #ffffff;\n",
       "                 border: 1px solid lightgray;\n",
       "                 position: relative;\n",
       "                 float: left;\n",
       "             }\n",
       "\n",
       "             \n",
       "\n",
       "             \n",
       "\n",
       "             \n",
       "        </style>\n",
       "    </head>\n",
       "\n",
       "\n",
       "    <body>\n",
       "        <div class=\"card\" style=\"width: 100%\">\n",
       "            \n",
       "            \n",
       "            <div id=\"mynetwork\" class=\"card-body\"></div>\n",
       "        </div>\n",
       "\n",
       "        \n",
       "        \n",
       "\n",
       "        <script type=\"text/javascript\">\n",
       "\n",
       "              // initialize global variables.\n",
       "              var edges;\n",
       "              var nodes;\n",
       "              var allNodes;\n",
       "              var allEdges;\n",
       "              var nodeColors;\n",
       "              var originalNodes;\n",
       "              var network;\n",
       "              var container;\n",
       "              var options, data;\n",
       "              var filter = {\n",
       "                  item : '',\n",
       "                  property : '',\n",
       "                  value : []\n",
       "              };\n",
       "\n",
       "              \n",
       "\n",
       "              \n",
       "\n",
       "              // This method is responsible for drawing the graph, returns the drawn network\n",
       "              function drawGraph() {\n",
       "                  var container = document.getElementById('mynetwork');\n",
       "\n",
       "                  \n",
       "\n",
       "                  // parsing and collecting nodes and edges from the python\n",
       "                  nodes = new vis.DataSet([{\"color\": \"#97c2fc\", \"id\": \"Borrower\", \"label\": \"Borrower\", \"shape\": \"dot\", \"size\": 10}, {\"color\": \"#97c2fc\", \"id\": \"establish a process to identify the responsible party for historical pollution\", \"label\": \"establish a process to identify the responsible party for historical pollution\", \"shape\": \"dot\", \"size\": 10}, {\"color\": \"#97c2fc\", \"id\": \"existing requirements for management of hazardous wastes\", \"label\": \"existing requirements for management of hazardous wastes\", \"shape\": \"dot\", \"size\": 10}, {\"color\": \"#97c2fc\", \"id\": \"avoid the generation of hazardous and nonhazardous waste\", \"label\": \"avoid the generation of hazardous and nonhazardous waste\", \"shape\": \"dot\", \"size\": 10}, {\"color\": \"#97c2fc\", \"id\": \"GIIP alternatives for environmentally sound and safe management and disposal\", \"label\": \"GIIP alternatives for environmentally sound and safe management and disposal\", \"shape\": \"dot\", \"size\": 10}, {\"color\": \"#97c2fc\", \"id\": \"ensure pesticides used in public health programs will be safe for personnel applying them\", \"label\": \"ensure pesticides used in public health programs will be safe for personnel applying them\", \"shape\": \"dot\", \"size\": 10}, {\"color\": \"#97c2fc\", \"id\": \"implement measures so that historical pollution does not pose a significant risk to health and safety\", \"label\": \"implement measures so that historical pollution does not pose a significant risk to health and safety\", \"shape\": \"dot\", \"size\": 10}, {\"color\": \"#97c2fc\", \"id\": \"national methodologies accepted in the context of international agreements on climate change\", \"label\": \"national methodologies accepted in the context of international agreements on climate change\", \"shape\": \"dot\", \"size\": 10}, {\"color\": \"#97c2fc\", \"id\": \"ensure all pesticides will be registered or otherwise authorized for use where registration is required\", \"label\": \"ensure all pesticides will be registered or otherwise authorized for use where registration is required\", \"shape\": \"dot\", \"size\": 10}, {\"color\": \"#97c2fc\", \"id\": \"use contractors that are reputable and legitimate enterprises\", \"label\": \"use contractors that are reputable and legitimate enterprises\", \"shape\": \"dot\", \"size\": 10}, {\"color\": \"#97c2fc\", \"id\": \"consider relevant factors to address potential adverse project impacts on human health and the environment\", \"label\": \"consider relevant factors to address potential adverse project impacts on human health and the environment\", \"shape\": \"dot\", \"size\": 10}, {\"color\": \"#97c2fc\", \"id\": \"consider additional strategies and adopt measures to avoid or minimize negative effects when the project has the potential to constitute a significant source of emissions in an already degraded area\", \"label\": \"consider additional strategies and adopt measures to avoid or minimize negative effects when the project has the potential to constitute a significant source of emissions in an already degraded area\", \"shape\": \"dot\", \"size\": 10}, {\"color\": \"#97c2fc\", \"id\": \"ensure pesticides used in public health programs will be safe for inhabitants and domestic animals in treated areas\", \"label\": \"ensure pesticides used in public health programs will be safe for inhabitants and domestic animals in treated areas\", \"shape\": \"dot\", \"size\": 10}, {\"color\": \"#97c2fc\", \"id\": \"minimize the generation of waste, and reuse, recycle and recover waste in a manner that is safe for human health and the environment\", \"label\": \"minimize the generation of waste, and reuse, recycle and recover waste in a manner that is safe for human health and the environment\", \"shape\": \"dot\", \"size\": 10}, {\"color\": \"#97c2fc\", \"id\": \"characterize and estimate sources of air pollution related to the project as part of the environmental and social assessment\", \"label\": \"characterize and estimate sources of air pollution related to the project as part of the environmental and social assessment\", \"shape\": \"dot\", \"size\": 10}, {\"color\": \"#97c2fc\", \"id\": \"ensure pesticide use will take into account the need to prevent the development of resistance in pests\", \"label\": \"ensure pesticide use will take into account the need to prevent the development of resistance in pests\", \"shape\": \"dot\", \"size\": 10}, {\"color\": \"#97c2fc\", \"id\": \"comply with existing requirements for management of hazardous wastes including national legislation and applicable international conventions\", \"label\": \"comply with existing requirements for management of hazardous wastes including national legislation and applicable international conventions\", \"shape\": \"dot\", \"size\": 10}, {\"color\": \"#97c2fc\", \"id\": \"ensure pesticides will have negligible adverse human health effects\", \"label\": \"ensure pesticides will have negligible adverse human health effects\", \"shape\": \"dot\", \"size\": 10}, {\"color\": \"#97c2fc\", \"id\": \"ensure pesticides will be effective against the target species\", \"label\": \"ensure pesticides will be effective against the target species\", \"shape\": \"dot\", \"size\": 10}, {\"color\": \"#97c2fc\", \"id\": \"applicable international conventions\", \"label\": \"applicable international conventions\", \"shape\": \"dot\", \"size\": 10}, {\"color\": \"#97c2fc\", \"id\": \"treat, destroy, or dispose of waste in an environmentally sound and safe manner that includes the appropriate control of emissions and residues resulting from the handling and processing of the waste material\", \"label\": \"treat, destroy, or dispose of waste in an environmentally sound and safe manner that includes the appropriate control of emissions and residues resulting from the handling and processing of the waste material\", \"shape\": \"dot\", \"size\": 10}, {\"color\": \"#97c2fc\", \"id\": \"undertake a health and safety risk assessment of existing pollution\", \"label\": \"undertake a health and safety risk assessment of existing pollution\", \"shape\": \"dot\", \"size\": 10}, {\"color\": \"#97c2fc\", \"id\": \"use contractors with respect to transportation\", \"label\": \"use contractors with respect to transportation\", \"shape\": \"dot\", \"size\": 10}, {\"color\": \"#97c2fc\", \"id\": \"reduce or eliminate the use of toxic or hazardous raw materials\", \"label\": \"reduce or eliminate the use of toxic or hazardous raw materials\", \"shape\": \"dot\", \"size\": 10}, {\"color\": \"#97c2fc\", \"id\": \"adopt GIIP alternatives for environmentally sound and safe management and disposal of hazardous waste where existing requirements are absent\", \"label\": \"adopt GIIP alternatives for environmentally sound and safe management and disposal of hazardous waste where existing requirements are absent\", \"shape\": \"dot\", \"size\": 10}, {\"color\": \"#97c2fc\", \"id\": \"obtain chain of custody documentation to the final destination\", \"label\": \"obtain chain of custody documentation to the final destination\", \"shape\": \"dot\", \"size\": 10}, {\"color\": \"#97c2fc\", \"id\": \"remediate the site in accordance with national law and GIIP\", \"label\": \"remediate the site in accordance with national law and GIIP\", \"shape\": \"dot\", \"size\": 10}, {\"color\": \"#97c2fc\", \"id\": \"national legislation\", \"label\": \"national legislation\", \"shape\": \"dot\", \"size\": 10}, {\"color\": \"#97c2fc\", \"id\": \"not use pesticide formulations of products if the country lacks restrictions on their distribution, management and use\", \"label\": \"not use pesticide formulations of products if the country lacks restrictions on their distribution, management and use\", \"shape\": \"dot\", \"size\": 10}, {\"color\": \"#97c2fc\", \"id\": \"appropriate control of emissions and residues\", \"label\": \"appropriate control of emissions and residues\", \"shape\": \"dot\", \"size\": 10}, {\"color\": \"#97c2fc\", \"id\": \"implement technically and financially feasible and cost-effective options to avoid or minimize project-related air emissions during the design, construction, and operation of the project\", \"label\": \"implement technically and financially feasible and cost-effective options to avoid or minimize project-related air emissions during the design, construction, and operation of the project\", \"shape\": \"dot\", \"size\": 10}, {\"color\": \"#97c2fc\", \"id\": \"use contractors with respect to disposal\", \"label\": \"use contractors with respect to disposal\", \"shape\": \"dot\", \"size\": 10}, {\"color\": \"#97c2fc\", \"id\": \"not use pesticide formulations of products if they are likely to be used by lay personnel, farmers, or others without training, equipment, and facilities\", \"label\": \"not use pesticide formulations of products if they are likely to be used by lay personnel, farmers, or others without training, equipment, and facilities\", \"shape\": \"dot\", \"size\": 10}, {\"color\": \"#97c2fc\", \"id\": \"ensure pesticides will have minimal effect on nontarget species and the natural environment\", \"label\": \"ensure pesticides will have minimal effect on nontarget species and the natural environment\", \"shape\": \"dot\", \"size\": 10}, {\"color\": \"#97c2fc\", \"id\": \"ensure methods, timing, and frequency of pesticide application minimize damage to natural enemies\", \"label\": \"ensure methods, timing, and frequency of pesticide application minimize damage to natural enemies\", \"shape\": \"dot\", \"size\": 10}, {\"color\": \"#97c2fc\", \"id\": \"e29b5ffa-bd8b-4b8f-840c-c4efc8890d8e\", \"label\": \"e29b5ffa-bd8b-4b8f-840c-c4efc8890d8e\", \"shape\": \"dot\", \"size\": 10}, {\"color\": \"#97c2fc\", \"id\": \"a0e73896-e6e7-4f68-907b-5f62d9538ed2\", \"label\": \"a0e73896-e6e7-4f68-907b-5f62d9538ed2\", \"shape\": \"dot\", \"size\": 10}, {\"color\": \"#97c2fc\", \"id\": \"03d6f607-4971-4b1b-8500-72fa99be92ff\", \"label\": \"03d6f607-4971-4b1b-8500-72fa99be92ff\", \"shape\": \"dot\", \"size\": 10}, {\"color\": \"#97c2fc\", \"id\": \"5b6810fa-c0ae-4a72-979d-0bb97ae460ef\", \"label\": \"5b6810fa-c0ae-4a72-979d-0bb97ae460ef\", \"shape\": \"dot\", \"size\": 10}, {\"color\": \"#97c2fc\", \"id\": \"c9111699-6c39-4254-9d0e-83f7639b3adb\", \"label\": \"c9111699-6c39-4254-9d0e-83f7639b3adb\", \"shape\": \"dot\", \"size\": 10}, {\"color\": \"#97c2fc\", \"id\": \"b1cf9d60-bc05-4d62-a31d-a2b00d41e6b2\", \"label\": \"b1cf9d60-bc05-4d62-a31d-a2b00d41e6b2\", \"shape\": \"dot\", \"size\": 10}, {\"color\": \"#97c2fc\", \"id\": \"13e8f313-d997-4786-b05c-1819178e616d\", \"label\": \"13e8f313-d997-4786-b05c-1819178e616d\", \"shape\": \"dot\", \"size\": 10}, {\"color\": \"#97c2fc\", \"id\": \"455e6989-ebf1-4b0b-b6cb-dcaf3313e29a\", \"label\": \"455e6989-ebf1-4b0b-b6cb-dcaf3313e29a\", \"shape\": \"dot\", \"size\": 10}]);\n",
       "                  edges = new vis.DataSet([{\"arrows\": \"to\", \"from\": \"Borrower\", \"label\": \"MUST_COMPLY_WITH\", \"to\": \"establish a process to identify the responsible party for historical pollution\", \"width\": 1}, {\"arrows\": \"to\", \"from\": \"Borrower\", \"label\": \"MUST_COMPLY_WITH\", \"to\": \"existing requirements for management of hazardous wastes\", \"width\": 1}, {\"arrows\": \"to\", \"from\": \"Borrower\", \"label\": \"MUST_COMPLY_WITH\", \"to\": \"avoid the generation of hazardous and nonhazardous waste\", \"width\": 1}, {\"arrows\": \"to\", \"from\": \"Borrower\", \"label\": \"MUST_COMPLY_WITH\", \"to\": \"GIIP alternatives for environmentally sound and safe management and disposal\", \"width\": 1}, {\"arrows\": \"to\", \"from\": \"Borrower\", \"label\": \"MUST_COMPLY_WITH\", \"to\": \"ensure pesticides used in public health programs will be safe for personnel applying them\", \"width\": 1}, {\"arrows\": \"to\", \"from\": \"Borrower\", \"label\": \"MUST_COMPLY_WITH\", \"to\": \"implement measures so that historical pollution does not pose a significant risk to health and safety\", \"width\": 1}, {\"arrows\": \"to\", \"from\": \"Borrower\", \"label\": \"MUST_COMPLY_WITH\", \"to\": \"national methodologies accepted in the context of international agreements on climate change\", \"width\": 1}, {\"arrows\": \"to\", \"from\": \"Borrower\", \"label\": \"MUST_COMPLY_WITH\", \"to\": \"ensure all pesticides will be registered or otherwise authorized for use where registration is required\", \"width\": 1}, {\"arrows\": \"to\", \"from\": \"Borrower\", \"label\": \"HAS_OBLIGATION_TO\", \"to\": \"use contractors that are reputable and legitimate enterprises\", \"width\": 1}, {\"arrows\": \"to\", \"from\": \"Borrower\", \"label\": \"MUST_COMPLY_WITH\", \"to\": \"consider relevant factors to address potential adverse project impacts on human health and the environment\", \"width\": 1}, {\"arrows\": \"to\", \"from\": \"Borrower\", \"label\": \"MUST_COMPLY_WITH\", \"to\": \"consider additional strategies and adopt measures to avoid or minimize negative effects when the project has the potential to constitute a significant source of emissions in an already degraded area\", \"width\": 1}, {\"arrows\": \"to\", \"from\": \"Borrower\", \"label\": \"MUST_COMPLY_WITH\", \"to\": \"ensure pesticides used in public health programs will be safe for inhabitants and domestic animals in treated areas\", \"width\": 1}, {\"arrows\": \"to\", \"from\": \"Borrower\", \"label\": \"MUST_COMPLY_WITH\", \"to\": \"minimize the generation of waste, and reuse, recycle and recover waste in a manner that is safe for human health and the environment\", \"width\": 1}, {\"arrows\": \"to\", \"from\": \"Borrower\", \"label\": \"MUST_COMPLY_WITH\", \"to\": \"characterize and estimate sources of air pollution related to the project as part of the environmental and social assessment\", \"width\": 1}, {\"arrows\": \"to\", \"from\": \"Borrower\", \"label\": \"MUST_COMPLY_WITH\", \"to\": \"ensure pesticide use will take into account the need to prevent the development of resistance in pests\", \"width\": 1}, {\"arrows\": \"to\", \"from\": \"Borrower\", \"label\": \"MUST_COMPLY_WITH\", \"to\": \"comply with existing requirements for management of hazardous wastes including national legislation and applicable international conventions\", \"width\": 1}, {\"arrows\": \"to\", \"from\": \"Borrower\", \"label\": \"MUST_COMPLY_WITH\", \"to\": \"ensure pesticides will have negligible adverse human health effects\", \"width\": 1}, {\"arrows\": \"to\", \"from\": \"Borrower\", \"label\": \"MUST_COMPLY_WITH\", \"to\": \"ensure pesticides will be effective against the target species\", \"width\": 1}, {\"arrows\": \"to\", \"from\": \"Borrower\", \"label\": \"MUST_COMPLY_WITH\", \"to\": \"applicable international conventions\", \"width\": 1}, {\"arrows\": \"to\", \"from\": \"Borrower\", \"label\": \"MUST_COMPLY_WITH\", \"to\": \"treat, destroy, or dispose of waste in an environmentally sound and safe manner that includes the appropriate control of emissions and residues resulting from the handling and processing of the waste material\", \"width\": 1}, {\"arrows\": \"to\", \"from\": \"Borrower\", \"label\": \"MUST_COMPLY_WITH\", \"to\": \"undertake a health and safety risk assessment of existing pollution\", \"width\": 1}, {\"arrows\": \"to\", \"from\": \"Borrower\", \"label\": \"HAS_OBLIGATION_TO\", \"to\": \"use contractors with respect to transportation\", \"width\": 1}, {\"arrows\": \"to\", \"from\": \"Borrower\", \"label\": \"MUST_COMPLY_WITH\", \"to\": \"reduce or eliminate the use of toxic or hazardous raw materials\", \"width\": 1}, {\"arrows\": \"to\", \"from\": \"Borrower\", \"label\": \"MUST_COMPLY_WITH\", \"to\": \"adopt GIIP alternatives for environmentally sound and safe management and disposal of hazardous waste where existing requirements are absent\", \"width\": 1}, {\"arrows\": \"to\", \"from\": \"Borrower\", \"label\": \"MUST_COMPLY_WITH\", \"to\": \"obtain chain of custody documentation to the final destination\", \"width\": 1}, {\"arrows\": \"to\", \"from\": \"Borrower\", \"label\": \"MUST_COMPLY_WITH\", \"to\": \"remediate the site in accordance with national law and GIIP\", \"width\": 1}, {\"arrows\": \"to\", \"from\": \"Borrower\", \"label\": \"MUST_COMPLY_WITH\", \"to\": \"national legislation\", \"width\": 1}, {\"arrows\": \"to\", \"from\": \"Borrower\", \"label\": \"MUST_COMPLY_WITH\", \"to\": \"not use pesticide formulations of products if the country lacks restrictions on their distribution, management and use\", \"width\": 1}, {\"arrows\": \"to\", \"from\": \"Borrower\", \"label\": \"MUST_COMPLY_WITH\", \"to\": \"appropriate control of emissions and residues\", \"width\": 1}, {\"arrows\": \"to\", \"from\": \"Borrower\", \"label\": \"MUST_COMPLY_WITH\", \"to\": \"implement technically and financially feasible and cost-effective options to avoid or minimize project-related air emissions during the design, construction, and operation of the project\", \"width\": 1}, {\"arrows\": \"to\", \"from\": \"Borrower\", \"label\": \"HAS_OBLIGATION_TO\", \"to\": \"use contractors with respect to disposal\", \"width\": 1}, {\"arrows\": \"to\", \"from\": \"Borrower\", \"label\": \"MUST_COMPLY_WITH\", \"to\": \"not use pesticide formulations of products if they are likely to be used by lay personnel, farmers, or others without training, equipment, and facilities\", \"width\": 1}, {\"arrows\": \"to\", \"from\": \"Borrower\", \"label\": \"MUST_COMPLY_WITH\", \"to\": \"ensure pesticides will have minimal effect on nontarget species and the natural environment\", \"width\": 1}, {\"arrows\": \"to\", \"from\": \"Borrower\", \"label\": \"MUST_COMPLY_WITH\", \"to\": \"ensure methods, timing, and frequency of pesticide application minimize damage to natural enemies\", \"width\": 1}]);\n",
       "\n",
       "                  nodeColors = {};\n",
       "                  allNodes = nodes.get({ returnType: \"Object\" });\n",
       "                  for (nodeId in allNodes) {\n",
       "                    nodeColors[nodeId] = allNodes[nodeId].color;\n",
       "                  }\n",
       "                  allEdges = edges.get({ returnType: \"Object\" });\n",
       "                  // adding nodes and edges to the graph\n",
       "                  data = {nodes: nodes, edges: edges};\n",
       "\n",
       "                  var options = {\n",
       "    \"configure\": {\n",
       "        \"enabled\": false\n",
       "    },\n",
       "    \"edges\": {\n",
       "        \"color\": {\n",
       "            \"inherit\": true\n",
       "        },\n",
       "        \"smooth\": {\n",
       "            \"enabled\": true,\n",
       "            \"type\": \"dynamic\"\n",
       "        }\n",
       "    },\n",
       "    \"interaction\": {\n",
       "        \"dragNodes\": true,\n",
       "        \"hideEdgesOnDrag\": false,\n",
       "        \"hideNodesOnDrag\": false\n",
       "    },\n",
       "    \"physics\": {\n",
       "        \"enabled\": true,\n",
       "        \"stabilization\": {\n",
       "            \"enabled\": true,\n",
       "            \"fit\": true,\n",
       "            \"iterations\": 1000,\n",
       "            \"onlyDynamicEdges\": false,\n",
       "            \"updateInterval\": 50\n",
       "        }\n",
       "    }\n",
       "};\n",
       "\n",
       "                  \n",
       "\n",
       "\n",
       "                  \n",
       "\n",
       "                  network = new vis.Network(container, data, options);\n",
       "\n",
       "                  \n",
       "\n",
       "                  \n",
       "\n",
       "                  \n",
       "\n",
       "\n",
       "                  \n",
       "\n",
       "                  return network;\n",
       "\n",
       "              }\n",
       "              drawGraph();\n",
       "        </script>\n",
       "    </body>\n",
       "</html>"
      ],
      "text/plain": [
       "<IPython.core.display.HTML object>"
      ]
     },
     "metadata": {},
     "output_type": "display_data"
    }
   ],
   "source": [
    "from IPython.core.display import display, HTML\n",
    "\n",
    "# Path to the saved HTML file\n",
    "html_file_path = \"./data/08_reports/kg_predefined_schema.html\"\n",
    "\n",
    "# Read the content of the HTML file\n",
    "with open(html_file_path, \"r\", encoding=\"utf-8\") as file:\n",
    "    html_content = file.read()\n",
    "\n",
    "# Display the HTML content in the notebook\n",
    "display(HTML(html_content))\n"
   ]
  },
  {
   "cell_type": "code",
   "execution_count": 5,
   "metadata": {},
   "outputs": [
    {
     "data": {
      "text/plain": [
       "<Response [500]>"
      ]
     },
     "execution_count": 5,
     "metadata": {},
     "output_type": "execute_result"
    }
   ],
   "source": [
    "response"
   ]
  }
 ],
 "metadata": {
  "kernelspec": {
   "display_name": "Python 3",
   "language": "python",
   "name": "python3"
  },
  "language_info": {
   "codemirror_mode": {
    "name": "ipython",
    "version": 3
   },
   "file_extension": ".py",
   "mimetype": "text/x-python",
   "name": "python",
   "nbconvert_exporter": "python",
   "pygments_lexer": "ipython3",
   "version": "3.10.14"
  }
 },
 "nbformat": 4,
 "nbformat_minor": 2
}
