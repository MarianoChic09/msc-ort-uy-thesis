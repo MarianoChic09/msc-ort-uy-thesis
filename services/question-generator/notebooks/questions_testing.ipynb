{
 "cells": [
  {
   "cell_type": "code",
   "execution_count": 1,
   "metadata": {},
   "outputs": [
    {
     "name": "stdout",
     "output_type": "stream",
     "text": [
      "c:\\Users\\scruple077\\Documents\\GitHub\\msc-ort-uy-thesis\\services\\question-generator\\notebooks\n",
      "c:\\Users\\scruple077\\Documents\\GitHub\\msc-ort-uy-thesis\\services\\question-generator\n"
     ]
    }
   ],
   "source": [
    "import sys\n",
    "import os\n",
    "\n",
    "print(os.getcwd())\n",
    "\n",
    "os.chdir(\"../\")\n",
    "print(os.getcwd())\n",
    "\n",
    "# Assuming the notebook is inside the 'notebooks' directory and 'src' is one level up\n",
    "# Add the src directory to the sys.path\n",
    "module_path = os.path.abspath(os.path.join(\"..\", \"src\"))\n",
    "if module_path not in sys.path:\n",
    "    sys.path.append(module_path)"
   ]
  },
  {
   "cell_type": "markdown",
   "metadata": {},
   "source": [
    "# Baseline RAG"
   ]
  },
  {
   "cell_type": "code",
   "execution_count": 30,
   "metadata": {},
   "outputs": [
    {
     "name": "stdout",
     "output_type": "stream",
     "text": [
      "200\n",
      "{'questions': ['1. What measures have been implemented to address potential adverse impacts on human health and the environment, considering factors such as existing ambient conditions, remaining assimilative capacity, existing and future land use, proximity to biodiversity areas, potential cumulative impacts, and climate change?', '2. Have additional strategies been considered and measures adopted to avoid or minimize negative effects in areas where the project constitutes a significant source of emissions?', '3. What technically and financially feasible and cost-effective options have been implemented to avoid or minimize project-related air emissions during the design, construction, and operation phases?', '4. Has the project included an environmental and social assessment to characterize and estimate sources of air pollution, including gross GHG emissions?', '5. What steps have been taken to avoid the generation of hazardous and nonhazardous waste, and how is waste minimized, reused, recycled, or recovered safely?', '6. How is hazardous waste managed, including storage, transportation, and disposal, in compliance with national legislation and applicable international conventions?', '7. What measures are in place to avoid the manufacture, trade, and use of chemicals and hazardous materials subject to international bans, restrictions, or phaseouts?', '8. How is the release and use of hazardous materials minimized and controlled, and what less hazardous substitutes have been considered?', '9. What integrated pest management (IPM) or integrated vector management (IVM) approaches are being used for pest management measures?', '10. How are the risks associated with the procurement and use of pesticides assessed, and what criteria are used to ensure compliance with international conventions and protocols?', '11. What measures have been adopted to improve the efficient consumption of energy, water, raw materials, and other resources, and how are these measures integrated into product design and production processes?', '12. For projects with significant energy use, what measures specified in the EHSGs have been adopted to optimize energy usage?', '13. For projects with significant water use or impacts on water quality, what measures have been adopted to avoid or minimize water usage and ensure no significant adverse impacts on communities, other users, and the environment?', '14. How is a detailed water balance developed, maintained, monitored, and reported for projects with high water demand?', '15. What opportunities for improvement in water use efficiency have been identified and implemented, and how is specific water use assessed and benchmarked?', '16. How are the potential cumulative impacts of water use on communities, other users, and the environment assessed, and what mitigation measures are implemented?', '17. For projects involving significant pest management issues, has a Pest Management Plan (PMP) been prepared, and what are its key elements?', '18. How is historical pollution identified, and what process is in place to identify the responsible party and undertake a health and safety risk assessment?', '19. What remediation measures are undertaken for historical pollution, and how are they aligned with national law and GIIP?', '20. How is the release of pollutants to air, water, and land avoided or minimized, and what performance levels and measures are used to control their concentration and mass flow?', '21. How is compliance with the EHSGs ensured for the use of pesticides, and what steps are taken to avoid the use of pesticide products that pose serious risks to human health or the environment?', '22. What criteria are used to select and use pesticides, ensuring negligible adverse human health effects, effectiveness against target species, and minimal impact on non-target species and the environment?']}\n"
     ]
    }
   ],
   "source": [
    "import requests\n",
    "\n",
    "# Define the URL of your FastAPI endpoint\n",
    "url = \"http://localhost:6000/questions-from-standard-baseline-rag\"\n",
    "\n",
    "import json\n",
    "\n",
    "# body = {\"query\": \"Environmental and Social Framework\", \"num_retrieved_docs\": 6}\n",
    "\n",
    "# Send the POST request\n",
    "response = requests.get(\n",
    "    url,\n",
    "    # files=files,  # Send the file\n",
    "    # json=body,  # Send the JSON schema\n",
    ")\n",
    "\n",
    "# Print the response from the server\n",
    "print(response.status_code)\n",
    "print(response.json())\n",
    "response_json = response.json()"
   ]
  },
  {
   "cell_type": "code",
   "execution_count": 31,
   "metadata": {},
   "outputs": [
    {
     "name": "stdout",
     "output_type": "stream",
     "text": [
      "1. What measures have been implemented to address potential adverse impacts on human health and the environment, considering factors such as existing ambient conditions, remaining assimilative capacity, existing and future land use, proximity to biodiversity areas, potential cumulative impacts, and climate change?\n",
      "\n",
      "\n",
      "2. Have additional strategies been considered and measures adopted to avoid or minimize negative effects in areas where the project constitutes a significant source of emissions?\n",
      "\n",
      "\n",
      "3. What technically and financially feasible and cost-effective options have been implemented to avoid or minimize project-related air emissions during the design, construction, and operation phases?\n",
      "\n",
      "\n",
      "4. Has the project included an environmental and social assessment to characterize and estimate sources of air pollution, including gross GHG emissions?\n",
      "\n",
      "\n",
      "5. What steps have been taken to avoid the generation of hazardous and nonhazardous waste, and how is waste minimized, reused, recycled, or recovered safely?\n",
      "\n",
      "\n",
      "6. How is hazardous waste managed, including storage, transportation, and disposal, in compliance with national legislation and applicable international conventions?\n",
      "\n",
      "\n",
      "7. What measures are in place to avoid the manufacture, trade, and use of chemicals and hazardous materials subject to international bans, restrictions, or phaseouts?\n",
      "\n",
      "\n",
      "8. How is the release and use of hazardous materials minimized and controlled, and what less hazardous substitutes have been considered?\n",
      "\n",
      "\n",
      "9. What integrated pest management (IPM) or integrated vector management (IVM) approaches are being used for pest management measures?\n",
      "\n",
      "\n",
      "10. How are the risks associated with the procurement and use of pesticides assessed, and what criteria are used to ensure compliance with international conventions and protocols?\n",
      "\n",
      "\n",
      "11. What measures have been adopted to improve the efficient consumption of energy, water, raw materials, and other resources, and how are these measures integrated into product design and production processes?\n",
      "\n",
      "\n",
      "12. For projects with significant energy use, what measures specified in the EHSGs have been adopted to optimize energy usage?\n",
      "\n",
      "\n",
      "13. For projects with significant water use or impacts on water quality, what measures have been adopted to avoid or minimize water usage and ensure no significant adverse impacts on communities, other users, and the environment?\n",
      "\n",
      "\n",
      "14. How is a detailed water balance developed, maintained, monitored, and reported for projects with high water demand?\n",
      "\n",
      "\n",
      "15. What opportunities for improvement in water use efficiency have been identified and implemented, and how is specific water use assessed and benchmarked?\n",
      "\n",
      "\n",
      "16. How are the potential cumulative impacts of water use on communities, other users, and the environment assessed, and what mitigation measures are implemented?\n",
      "\n",
      "\n",
      "17. For projects involving significant pest management issues, has a Pest Management Plan (PMP) been prepared, and what are its key elements?\n",
      "\n",
      "\n",
      "18. How is historical pollution identified, and what process is in place to identify the responsible party and undertake a health and safety risk assessment?\n",
      "\n",
      "\n",
      "19. What remediation measures are undertaken for historical pollution, and how are they aligned with national law and GIIP?\n",
      "\n",
      "\n",
      "20. How is the release of pollutants to air, water, and land avoided or minimized, and what performance levels and measures are used to control their concentration and mass flow?\n",
      "\n",
      "\n",
      "21. How is compliance with the EHSGs ensured for the use of pesticides, and what steps are taken to avoid the use of pesticide products that pose serious risks to human health or the environment?\n",
      "\n",
      "\n",
      "22. What criteria are used to select and use pesticides, ensuring negligible adverse human health effects, effectiveness against target species, and minimal impact on non-target species and the environment?\n",
      "\n",
      "\n"
     ]
    }
   ],
   "source": [
    "questions = response_json[\"questions\"]\n",
    "\n",
    "for question in questions:\n",
    "    print(question)\n",
    "    print(\"\\n\")"
   ]
  },
  {
   "cell_type": "markdown",
   "metadata": {},
   "source": [
    "# Graph RAG - Schema Guided"
   ]
  },
  {
   "cell_type": "code",
   "execution_count": 22,
   "metadata": {},
   "outputs": [
    {
     "name": "stdout",
     "output_type": "stream",
     "text": [
      "200\n",
      "{'questions': ['1. Have all relevant factors been considered to address potential adverse project impacts on human health and the environment?', '2. Has the project characterized and estimated sources of air pollution as part of the environmental and social assessment?', '3. What additional strategies and measures have been adopted to avoid or minimize negative effects in areas where the project constitutes a significant source of emissions?', '4. Are there technically and financially feasible and cost-effective options implemented to avoid or minimize project-related air emissions during the design, construction, and operation phases?', '5. Has a health and safety risk assessment of existing pollution been undertaken?', '6. Is the project in compliance with existing requirements for the management of hazardous wastes, including national legislation and applicable international conventions?', '7. Has the site been remediated in accordance with national law and Good International Industry Practice (GIIP)?', '8. Are contractors used for waste disposal reputable and legitimate enterprises?', '9. Are waste materials treated, destroyed, or disposed of in an environmentally sound and safe manner, including appropriate control of emissions and residues?', '10. Is there a process established to identify the responsible party for historical pollution?', '11. What measures have been implemented to ensure that historical pollution does not pose a significant risk to health and safety?', '12. Are pesticides used in the project effective against the target species?', '13. Are methods, timing, and frequency of pesticide application designed to minimize damage to natural enemies?', '14. Are pesticides used in public health programs safe for personnel applying them, as well as for inhabitants and domestic animals in treated areas?', '15. Are pesticides used in the project registered or otherwise authorized for use where registration is required?', '16. Are measures in place to prevent the development of resistance in pests due to pesticide use?', '17. Are pesticides used in the project having minimal effect on non-target species and the natural environment?', '18. Are all pesticides used in the project manufactured, formulated, packaged, labeled, handled, stored, disposed of, and applied according to relevant international standards and codes of conduct, as well as the Environmental, Health, and Safety Guidelines (EHSGs)?', '19. Are there measures in place to minimize the generation of waste, and to reuse, recycle, and recover waste in a manner that is safe for human health and the environment?', '20. Are national methodologies accepted in the context of international agreements on climate change being followed?', '21. Are toxic or hazardous raw materials being reduced or eliminated in the project?', '22. Are there chain of custody documentation processes in place to track waste to its final destination?', '23. Are contractors used for transportation of waste reputable and legitimate enterprises?', '24. Are GIIP alternatives being used for the environmentally sound and safe management and disposal of waste?', '25. Are existing requirements for the management of hazardous wastes being followed?']}\n"
     ]
    }
   ],
   "source": [
    "import requests\n",
    "\n",
    "# Define the URL of your FastAPI endpoint\n",
    "url = \"http://localhost:6000/questions-from-standard-graph-rag-schema-guided\"\n",
    "\n",
    "import json\n",
    "\n",
    "# body = {\"query\": \"Environmental and Social Framework\", \"num_retrieved_docs\": 6}\n",
    "\n",
    "# Send the POST request\n",
    "response = requests.get(\n",
    "    url,\n",
    "    # files=files,  # Send the file\n",
    "    # json=body,  # Send the JSON schema\n",
    ")\n",
    "\n",
    "# Print the response from the server\n",
    "print(response.status_code)\n",
    "print(response.json())\n",
    "response_json = response.json()"
   ]
  },
  {
   "cell_type": "code",
   "execution_count": 23,
   "metadata": {},
   "outputs": [
    {
     "data": {
      "text/plain": [
       "{'questions': ['1. Have all relevant factors been considered to address potential adverse project impacts on human health and the environment?',\n",
       "  '2. Has the project characterized and estimated sources of air pollution as part of the environmental and social assessment?',\n",
       "  '3. What additional strategies and measures have been adopted to avoid or minimize negative effects in areas where the project constitutes a significant source of emissions?',\n",
       "  '4. Are there technically and financially feasible and cost-effective options implemented to avoid or minimize project-related air emissions during the design, construction, and operation phases?',\n",
       "  '5. Has a health and safety risk assessment of existing pollution been undertaken?',\n",
       "  '6. Is the project in compliance with existing requirements for the management of hazardous wastes, including national legislation and applicable international conventions?',\n",
       "  '7. Has the site been remediated in accordance with national law and Good International Industry Practice (GIIP)?',\n",
       "  '8. Are contractors used for waste disposal reputable and legitimate enterprises?',\n",
       "  '9. Are waste materials treated, destroyed, or disposed of in an environmentally sound and safe manner, including appropriate control of emissions and residues?',\n",
       "  '10. Is there a process established to identify the responsible party for historical pollution?',\n",
       "  '11. What measures have been implemented to ensure that historical pollution does not pose a significant risk to health and safety?',\n",
       "  '12. Are pesticides used in the project effective against the target species?',\n",
       "  '13. Are methods, timing, and frequency of pesticide application designed to minimize damage to natural enemies?',\n",
       "  '14. Are pesticides used in public health programs safe for personnel applying them, as well as for inhabitants and domestic animals in treated areas?',\n",
       "  '15. Are pesticides used in the project registered or otherwise authorized for use where registration is required?',\n",
       "  '16. Are measures in place to prevent the development of resistance in pests due to pesticide use?',\n",
       "  '17. Are pesticides used in the project having minimal effect on non-target species and the natural environment?',\n",
       "  '18. Are all pesticides used in the project manufactured, formulated, packaged, labeled, handled, stored, disposed of, and applied according to relevant international standards and codes of conduct, as well as the Environmental, Health, and Safety Guidelines (EHSGs)?',\n",
       "  '19. Are there measures in place to minimize the generation of waste, and to reuse, recycle, and recover waste in a manner that is safe for human health and the environment?',\n",
       "  '20. Are national methodologies accepted in the context of international agreements on climate change being followed?',\n",
       "  '21. Are toxic or hazardous raw materials being reduced or eliminated in the project?',\n",
       "  '22. Are there chain of custody documentation processes in place to track waste to its final destination?',\n",
       "  '23. Are contractors used for transportation of waste reputable and legitimate enterprises?',\n",
       "  '24. Are GIIP alternatives being used for the environmentally sound and safe management and disposal of waste?',\n",
       "  '25. Are existing requirements for the management of hazardous wastes being followed?']}"
      ]
     },
     "execution_count": 23,
     "metadata": {},
     "output_type": "execute_result"
    }
   ],
   "source": [
    "response.json()"
   ]
  },
  {
   "cell_type": "code",
   "execution_count": 24,
   "metadata": {},
   "outputs": [
    {
     "name": "stdout",
     "output_type": "stream",
     "text": [
      "1. Have all relevant factors been considered to address potential adverse project impacts on human health and the environment?\n",
      "2. Has the project characterized and estimated sources of air pollution as part of the environmental and social assessment?\n",
      "3. What additional strategies and measures have been adopted to avoid or minimize negative effects in areas where the project constitutes a significant source of emissions?\n",
      "4. Are there technically and financially feasible and cost-effective options implemented to avoid or minimize project-related air emissions during the design, construction, and operation phases?\n",
      "5. Has a health and safety risk assessment of existing pollution been undertaken?\n",
      "6. Is the project in compliance with existing requirements for the management of hazardous wastes, including national legislation and applicable international conventions?\n",
      "7. Has the site been remediated in accordance with national law and Good International Industry Practice (GIIP)?\n",
      "8. Are contractors used for waste disposal reputable and legitimate enterprises?\n",
      "9. Are waste materials treated, destroyed, or disposed of in an environmentally sound and safe manner, including appropriate control of emissions and residues?\n",
      "10. Is there a process established to identify the responsible party for historical pollution?\n",
      "11. What measures have been implemented to ensure that historical pollution does not pose a significant risk to health and safety?\n",
      "12. Are pesticides used in the project effective against the target species?\n",
      "13. Are methods, timing, and frequency of pesticide application designed to minimize damage to natural enemies?\n",
      "14. Are pesticides used in public health programs safe for personnel applying them, as well as for inhabitants and domestic animals in treated areas?\n",
      "15. Are pesticides used in the project registered or otherwise authorized for use where registration is required?\n",
      "16. Are measures in place to prevent the development of resistance in pests due to pesticide use?\n",
      "17. Are pesticides used in the project having minimal effect on non-target species and the natural environment?\n",
      "18. Are all pesticides used in the project manufactured, formulated, packaged, labeled, handled, stored, disposed of, and applied according to relevant international standards and codes of conduct, as well as the Environmental, Health, and Safety Guidelines (EHSGs)?\n",
      "19. Are there measures in place to minimize the generation of waste, and to reuse, recycle, and recover waste in a manner that is safe for human health and the environment?\n",
      "20. Are national methodologies accepted in the context of international agreements on climate change being followed?\n",
      "21. Are toxic or hazardous raw materials being reduced or eliminated in the project?\n",
      "22. Are there chain of custody documentation processes in place to track waste to its final destination?\n",
      "23. Are contractors used for transportation of waste reputable and legitimate enterprises?\n",
      "24. Are GIIP alternatives being used for the environmentally sound and safe management and disposal of waste?\n",
      "25. Are existing requirements for the management of hazardous wastes being followed?\n"
     ]
    }
   ],
   "source": [
    "questions = response_json[\"questions\"]\n",
    "\n",
    "for question in questions:\n",
    "    print(question)\n",
    "    # print(\"\\n\")"
   ]
  },
  {
   "cell_type": "markdown",
   "metadata": {},
   "source": [
    "# Graph RAG - Free Form"
   ]
  },
  {
   "cell_type": "code",
   "execution_count": 25,
   "metadata": {},
   "outputs": [
    {
     "name": "stdout",
     "output_type": "stream",
     "text": [
      "200\n",
      "{'questions': ['1. Has the borrower conducted an assessment of hazardous materials for project activities?', '2. Are there significant pest management issues associated with the project?', '3. Is the borrower complying with all relevant environmental requirements?', '4. Has the borrower adopted Good International Industry Practice (GIIP) alternatives where applicable?', '5. Has the borrower considered existing and future land use in the project planning?', '6. How does the borrower plan to destroy waste generated by the project?', '7. Are licensed disposal sites being used for waste disposal?', '8. What measures has the borrower implemented to minimize the release of hazardous materials?', '9. What steps has the borrower taken to avoid or minimize water usage?', '10. Has the borrower considered existing ambient conditions in the project area?', '11. Are less hazardous substitutes being considered for project materials?', '12. Has the borrower established a process for managing environmental compliance?', '13. Has the borrower prepared a Pest Management Plan (PMP) for the project?', '14. What specific measures has the borrower adopted to mitigate environmental impacts?', '15. Has the borrower considered the potential for cumulative impacts from the project?', '16. Are additional strategies being considered to address environmental concerns?', '17. Does the financing represent a large component of the project, particularly for pest control products?', '18. What activities are leading to significant pest management issues?', '19. Are issues such as migratory locust control and mosquito control being addressed?', '20. How is the borrower addressing pollution prevention requirements?', '21. How will the borrower treat, destroy, or dispose of waste in an environmentally sound manner?', '22. Is the generated waste considered hazardous, and if so, how is it being managed?', '23. Are there existing requirements for the management of hazardous wastes, and is the borrower complying with them?', '24. Are GIIP alternatives being adopted for the management and disposal of hazardous waste where national requirements are absent?', '25. Are third-party contractors used for hazardous waste management reputable and licensed?', '26. What are the potential risks to the environment from the project?', '27. Are there restrictions on the management of pesticide products that pose serious risks to human health or the environment?', '28. Are pesticide formulations being used in compliance with international standards and local regulations?', '29. Are the selected pesticides having negligible adverse human health effects and minimal impact on non-target species?', '30. Are the methods, timing, and frequency of pesticide application designed to minimize environmental damage?', '31. Are pesticides used in public health programs safe for inhabitants and domestic animals?', '32. Is there a process to prevent the development of resistance in pests?', '33. Are all pesticides registered or authorized for their intended use under the project?', '34. Are pesticides being manufactured, formulated, packaged, labeled, handled, stored, disposed of, and applied according to relevant international standards?', '35. Has the borrower established a process to identify responsible parties for historical pollution?', '36. Has a health and safety risk assessment been undertaken for existing pollution that may affect communities, workers, and the environment?', '37. Are remediation measures for historical pollution being implemented in accordance with national law and GIIP?', '38. Is the borrower seeking recourse from third parties responsible for historical pollution?', '39. Are measures being implemented to ensure historical pollution does not pose significant risks to health and safety?', '40. How is the borrower promoting the sustainable use of resources, including energy, water, and raw materials?', '41. What steps are being taken to avoid or minimize adverse impacts on human health and the environment from project activities?', '42. How is the borrower minimizing project-related emissions of climate pollutants?', '43. What measures are in place to avoid or minimize the generation of hazardous and non-hazardous waste?', '44. How is the borrower managing the risks and impacts associated with pesticide use?', '45. Are resource efficiency and pollution prevention measures being applied throughout the project life cycle?', '46. Are ambient conditions being considered in the project planning and implementation?', '47. Are technically and financially feasible resource efficiency and pollution prevention measures being applied?', '48. Are cleaner production principles being integrated into the project measures?', '49. Are additional strategies being considered for projects that may constitute a significant source of emissions in already degraded areas?', '50. Are alternatives being evaluated to avoid or minimize negative environmental effects?', '51. Are technically and financially feasible and cost-effective options being implemented to avoid or minimize project-related air emissions?', '52. Has the borrower characterized and estimated sources of air pollution related to the project?', '53. Is there an estimate of gross GHG emissions resulting from the project?', '54. Is the borrower receiving assistance from the Bank for GHG emissions estimation if needed?', '55. Are measures in place to avoid the generation of hazardous and non-hazardous waste?', '56. How is the borrower minimizing the generation of waste and ensuring safe reuse, recycling, and recovery?', '57. Are emissions and residues from waste handling and processing being appropriately controlled?']}\n"
     ]
    }
   ],
   "source": [
    "import requests\n",
    "\n",
    "# Define the URL of your FastAPI endpoint\n",
    "url = \"http://localhost:6000/questions-from-standard-graph-rag-free-form\"\n",
    "\n",
    "import json\n",
    "\n",
    "# body = {\"query\": \"Environmental and Social Framework\", \"num_retrieved_docs\": 6}\n",
    "\n",
    "# Send the POST request\n",
    "response = requests.get(\n",
    "    url,\n",
    "    # files=files,  # Send the file\n",
    "    # json=body,  # Send the JSON schema\n",
    ")\n",
    "\n",
    "# Print the response from the server\n",
    "print(response.status_code)\n",
    "print(response.json())\n",
    "response_json = response.json()"
   ]
  },
  {
   "cell_type": "code",
   "execution_count": 26,
   "metadata": {},
   "outputs": [
    {
     "name": "stdout",
     "output_type": "stream",
     "text": [
      "1. Has the borrower conducted an assessment of hazardous materials for project activities?\n",
      "2. Are there significant pest management issues associated with the project?\n",
      "3. Is the borrower complying with all relevant environmental requirements?\n",
      "4. Has the borrower adopted Good International Industry Practice (GIIP) alternatives where applicable?\n",
      "5. Has the borrower considered existing and future land use in the project planning?\n",
      "6. How does the borrower plan to destroy waste generated by the project?\n",
      "7. Are licensed disposal sites being used for waste disposal?\n",
      "8. What measures has the borrower implemented to minimize the release of hazardous materials?\n",
      "9. What steps has the borrower taken to avoid or minimize water usage?\n",
      "10. Has the borrower considered existing ambient conditions in the project area?\n",
      "11. Are less hazardous substitutes being considered for project materials?\n",
      "12. Has the borrower established a process for managing environmental compliance?\n",
      "13. Has the borrower prepared a Pest Management Plan (PMP) for the project?\n",
      "14. What specific measures has the borrower adopted to mitigate environmental impacts?\n",
      "15. Has the borrower considered the potential for cumulative impacts from the project?\n",
      "16. Are additional strategies being considered to address environmental concerns?\n",
      "17. Does the financing represent a large component of the project, particularly for pest control products?\n",
      "18. What activities are leading to significant pest management issues?\n",
      "19. Are issues such as migratory locust control and mosquito control being addressed?\n",
      "20. How is the borrower addressing pollution prevention requirements?\n",
      "21. How will the borrower treat, destroy, or dispose of waste in an environmentally sound manner?\n",
      "22. Is the generated waste considered hazardous, and if so, how is it being managed?\n",
      "23. Are there existing requirements for the management of hazardous wastes, and is the borrower complying with them?\n",
      "24. Are GIIP alternatives being adopted for the management and disposal of hazardous waste where national requirements are absent?\n",
      "25. Are third-party contractors used for hazardous waste management reputable and licensed?\n",
      "26. What are the potential risks to the environment from the project?\n",
      "27. Are there restrictions on the management of pesticide products that pose serious risks to human health or the environment?\n",
      "28. Are pesticide formulations being used in compliance with international standards and local regulations?\n",
      "29. Are the selected pesticides having negligible adverse human health effects and minimal impact on non-target species?\n",
      "30. Are the methods, timing, and frequency of pesticide application designed to minimize environmental damage?\n",
      "31. Are pesticides used in public health programs safe for inhabitants and domestic animals?\n",
      "32. Is there a process to prevent the development of resistance in pests?\n",
      "33. Are all pesticides registered or authorized for their intended use under the project?\n",
      "34. Are pesticides being manufactured, formulated, packaged, labeled, handled, stored, disposed of, and applied according to relevant international standards?\n",
      "35. Has the borrower established a process to identify responsible parties for historical pollution?\n",
      "36. Has a health and safety risk assessment been undertaken for existing pollution that may affect communities, workers, and the environment?\n",
      "37. Are remediation measures for historical pollution being implemented in accordance with national law and GIIP?\n",
      "38. Is the borrower seeking recourse from third parties responsible for historical pollution?\n",
      "39. Are measures being implemented to ensure historical pollution does not pose significant risks to health and safety?\n",
      "40. How is the borrower promoting the sustainable use of resources, including energy, water, and raw materials?\n",
      "41. What steps are being taken to avoid or minimize adverse impacts on human health and the environment from project activities?\n",
      "42. How is the borrower minimizing project-related emissions of climate pollutants?\n",
      "43. What measures are in place to avoid or minimize the generation of hazardous and non-hazardous waste?\n",
      "44. How is the borrower managing the risks and impacts associated with pesticide use?\n",
      "45. Are resource efficiency and pollution prevention measures being applied throughout the project life cycle?\n",
      "46. Are ambient conditions being considered in the project planning and implementation?\n",
      "47. Are technically and financially feasible resource efficiency and pollution prevention measures being applied?\n",
      "48. Are cleaner production principles being integrated into the project measures?\n",
      "49. Are additional strategies being considered for projects that may constitute a significant source of emissions in already degraded areas?\n",
      "50. Are alternatives being evaluated to avoid or minimize negative environmental effects?\n",
      "51. Are technically and financially feasible and cost-effective options being implemented to avoid or minimize project-related air emissions?\n",
      "52. Has the borrower characterized and estimated sources of air pollution related to the project?\n",
      "53. Is there an estimate of gross GHG emissions resulting from the project?\n",
      "54. Is the borrower receiving assistance from the Bank for GHG emissions estimation if needed?\n",
      "55. Are measures in place to avoid the generation of hazardous and non-hazardous waste?\n",
      "56. How is the borrower minimizing the generation of waste and ensuring safe reuse, recycling, and recovery?\n",
      "57. Are emissions and residues from waste handling and processing being appropriately controlled?\n"
     ]
    }
   ],
   "source": [
    "questions = response_json[\"questions\"]\n",
    "\n",
    "for question in questions:\n",
    "    print(question)\n",
    "    # print(\"\\n\")"
   ]
  }
 ],
 "metadata": {
  "kernelspec": {
   "display_name": "Python 3",
   "language": "python",
   "name": "python3"
  },
  "language_info": {
   "codemirror_mode": {
    "name": "ipython",
    "version": 3
   },
   "file_extension": ".py",
   "mimetype": "text/x-python",
   "name": "python",
   "nbconvert_exporter": "python",
   "pygments_lexer": "ipython3",
   "version": "3.10.14"
  }
 },
 "nbformat": 4,
 "nbformat_minor": 2
}
