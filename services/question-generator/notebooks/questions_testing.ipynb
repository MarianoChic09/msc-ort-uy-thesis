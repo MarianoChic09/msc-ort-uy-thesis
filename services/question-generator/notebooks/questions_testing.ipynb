{
 "cells": [
  {
   "cell_type": "code",
   "execution_count": 1,
   "metadata": {},
   "outputs": [
    {
     "name": "stdout",
     "output_type": "stream",
     "text": [
      "c:\\Users\\scruple077\\Documents\\GitHub\\msc-ort-uy-thesis\\services\\question-generator\\notebooks\n",
      "c:\\Users\\scruple077\\Documents\\GitHub\\msc-ort-uy-thesis\\services\\question-generator\n"
     ]
    }
   ],
   "source": [
    "import sys\n",
    "import os\n",
    "\n",
    "print(os.getcwd())\n",
    "\n",
    "os.chdir(\"../\")\n",
    "print(os.getcwd())\n",
    "\n",
    "# Assuming the notebook is inside the 'notebooks' directory and 'src' is one level up\n",
    "# Add the src directory to the sys.path\n",
    "module_path = os.path.abspath(os.path.join(\"..\", \"src\"))\n",
    "if module_path not in sys.path:\n",
    "    sys.path.append(module_path)"
   ]
  },
  {
   "cell_type": "markdown",
   "metadata": {},
   "source": [
    "# Baseline RAG"
   ]
  },
  {
   "cell_type": "code",
   "execution_count": 30,
   "metadata": {},
   "outputs": [
    {
     "name": "stdout",
     "output_type": "stream",
     "text": [
      "200\n",
      "{'questions': ['1. What measures have been implemented to address potential adverse impacts on human health and the environment, considering factors such as existing ambient conditions, remaining assimilative capacity, existing and future land use, proximity to biodiversity areas, potential cumulative impacts, and climate change?', '2. Have additional strategies been considered and measures adopted to avoid or minimize negative effects in areas where the project constitutes a significant source of emissions?', '3. What technically and financially feasible and cost-effective options have been implemented to avoid or minimize project-related air emissions during the design, construction, and operation phases?', '4. Has the project included an environmental and social assessment to characterize and estimate sources of air pollution, including gross GHG emissions?', '5. What steps have been taken to avoid the generation of hazardous and nonhazardous waste, and how is waste minimized, reused, recycled, or recovered safely?', '6. How is hazardous waste managed, including storage, transportation, and disposal, in compliance with national legislation and applicable international conventions?', '7. What measures are in place to avoid the manufacture, trade, and use of chemicals and hazardous materials subject to international bans, restrictions, or phaseouts?', '8. How is the release and use of hazardous materials minimized and controlled, and what less hazardous substitutes have been considered?', '9. What integrated pest management (IPM) or integrated vector management (IVM) approaches are being used for pest management measures?', '10. How are the risks associated with the procurement and use of pesticides assessed, and what criteria are used to ensure compliance with international conventions and protocols?', '11. What measures have been adopted to improve the efficient consumption of energy, water, raw materials, and other resources, and how are these measures integrated into product design and production processes?', '12. For projects with significant energy use, what measures specified in the EHSGs have been adopted to optimize energy usage?', '13. For projects with significant water use or impacts on water quality, what measures have been adopted to avoid or minimize water usage and ensure no significant adverse impacts on communities, other users, and the environment?', '14. How is a detailed water balance developed, maintained, monitored, and reported for projects with high water demand?', '15. What opportunities for improvement in water use efficiency have been identified and implemented, and how is specific water use assessed and benchmarked?', '16. How are the potential cumulative impacts of water use on communities, other users, and the environment assessed, and what mitigation measures are implemented?', '17. For projects involving significant pest management issues, has a Pest Management Plan (PMP) been prepared, and what are its key elements?', '18. How is historical pollution identified, and what process is in place to identify the responsible party and undertake a health and safety risk assessment?', '19. What remediation measures are undertaken for historical pollution, and how are they aligned with national law and GIIP?', '20. How is the release of pollutants to air, water, and land avoided or minimized, and what performance levels and measures are used to control their concentration and mass flow?', '21. How is compliance with the EHSGs ensured for the use of pesticides, and what steps are taken to avoid the use of pesticide products that pose serious risks to human health or the environment?', '22. What criteria are used to select and use pesticides, ensuring negligible adverse human health effects, effectiveness against target species, and minimal impact on non-target species and the environment?']}\n"
     ]
    }
   ],
   "source": [
    "import requests\n",
    "\n",
    "# Define the URL of your FastAPI endpoint\n",
    "url = \"http://localhost:6000/questions-from-standard-baseline-rag\"\n",
    "\n",
    "import json\n",
    "\n",
    "# body = {\"query\": \"Environmental and Social Framework\", \"num_retrieved_docs\": 6}\n",
    "\n",
    "# Send the POST request\n",
    "response = requests.get(\n",
    "    url,\n",
    "    # files=files,  # Send the file\n",
    "    # json=body,  # Send the JSON schema\n",
    ")\n",
    "\n",
    "# Print the response from the server\n",
    "print(response.status_code)\n",
    "print(response.json())\n",
    "response_json = response.json()"
   ]
  },
  {
   "cell_type": "code",
   "execution_count": 31,
   "metadata": {},
   "outputs": [
    {
     "name": "stdout",
     "output_type": "stream",
     "text": [
      "1. What measures have been implemented to address potential adverse impacts on human health and the environment, considering factors such as existing ambient conditions, remaining assimilative capacity, existing and future land use, proximity to biodiversity areas, potential cumulative impacts, and climate change?\n",
      "\n",
      "\n",
      "2. Have additional strategies been considered and measures adopted to avoid or minimize negative effects in areas where the project constitutes a significant source of emissions?\n",
      "\n",
      "\n",
      "3. What technically and financially feasible and cost-effective options have been implemented to avoid or minimize project-related air emissions during the design, construction, and operation phases?\n",
      "\n",
      "\n",
      "4. Has the project included an environmental and social assessment to characterize and estimate sources of air pollution, including gross GHG emissions?\n",
      "\n",
      "\n",
      "5. What steps have been taken to avoid the generation of hazardous and nonhazardous waste, and how is waste minimized, reused, recycled, or recovered safely?\n",
      "\n",
      "\n",
      "6. How is hazardous waste managed, including storage, transportation, and disposal, in compliance with national legislation and applicable international conventions?\n",
      "\n",
      "\n",
      "7. What measures are in place to avoid the manufacture, trade, and use of chemicals and hazardous materials subject to international bans, restrictions, or phaseouts?\n",
      "\n",
      "\n",
      "8. How is the release and use of hazardous materials minimized and controlled, and what less hazardous substitutes have been considered?\n",
      "\n",
      "\n",
      "9. What integrated pest management (IPM) or integrated vector management (IVM) approaches are being used for pest management measures?\n",
      "\n",
      "\n",
      "10. How are the risks associated with the procurement and use of pesticides assessed, and what criteria are used to ensure compliance with international conventions and protocols?\n",
      "\n",
      "\n",
      "11. What measures have been adopted to improve the efficient consumption of energy, water, raw materials, and other resources, and how are these measures integrated into product design and production processes?\n",
      "\n",
      "\n",
      "12. For projects with significant energy use, what measures specified in the EHSGs have been adopted to optimize energy usage?\n",
      "\n",
      "\n",
      "13. For projects with significant water use or impacts on water quality, what measures have been adopted to avoid or minimize water usage and ensure no significant adverse impacts on communities, other users, and the environment?\n",
      "\n",
      "\n",
      "14. How is a detailed water balance developed, maintained, monitored, and reported for projects with high water demand?\n",
      "\n",
      "\n",
      "15. What opportunities for improvement in water use efficiency have been identified and implemented, and how is specific water use assessed and benchmarked?\n",
      "\n",
      "\n",
      "16. How are the potential cumulative impacts of water use on communities, other users, and the environment assessed, and what mitigation measures are implemented?\n",
      "\n",
      "\n",
      "17. For projects involving significant pest management issues, has a Pest Management Plan (PMP) been prepared, and what are its key elements?\n",
      "\n",
      "\n",
      "18. How is historical pollution identified, and what process is in place to identify the responsible party and undertake a health and safety risk assessment?\n",
      "\n",
      "\n",
      "19. What remediation measures are undertaken for historical pollution, and how are they aligned with national law and GIIP?\n",
      "\n",
      "\n",
      "20. How is the release of pollutants to air, water, and land avoided or minimized, and what performance levels and measures are used to control their concentration and mass flow?\n",
      "\n",
      "\n",
      "21. How is compliance with the EHSGs ensured for the use of pesticides, and what steps are taken to avoid the use of pesticide products that pose serious risks to human health or the environment?\n",
      "\n",
      "\n",
      "22. What criteria are used to select and use pesticides, ensuring negligible adverse human health effects, effectiveness against target species, and minimal impact on non-target species and the environment?\n",
      "\n",
      "\n"
     ]
    }
   ],
   "source": [
    "questions = response_json[\"questions\"]\n",
    "\n",
    "for question in questions:\n",
    "    print(question)\n",
    "    print(\"\\n\")"
   ]
  },
  {
   "cell_type": "markdown",
   "metadata": {},
   "source": [
    "# Graph RAG - Schema Guided"
   ]
  },
  {
   "cell_type": "code",
   "execution_count": 6,
   "metadata": {},
   "outputs": [
    {
     "name": "stdout",
     "output_type": "stream",
     "text": [
      "200\n",
      "{'questions': ['1. Have all relevant factors been considered to address potential adverse project impacts on human health and the environment?', '2. Has the project characterized and estimated sources of air pollution as part of the environmental and social assessment?', '3. What additional strategies and measures have been adopted to avoid or minimize negative effects in areas where the project constitutes a significant source of emissions?', '4. Are there technically and financially feasible and cost-effective options implemented to avoid or minimize project-related air emissions during the design, construction, and operation phases?', '5. Has a health and safety risk assessment of existing pollution been undertaken?', '6. Are there any pesticide products being used that pose potentially serious risks to human health or the environment, and are these identified in internationally recognized classification and labeling systems?', '7. Does the country have restrictions on the distribution, management, and use of these pesticide products?', '8. Are these pesticide products likely to be used by, or accessible to, lay personnel, farmers, or others without proper training, equipment, and facilities?', '9. Do the selected pesticides have negligible adverse human health effects?', '10. Have the pesticides been shown to be effective against the target species?', '11. Do the pesticides have minimal effects on non-target species and the natural environment?', '12. Are the methods, timing, and frequency of pesticide application aimed at minimizing damage to natural enemies?', '13. For pesticides used in public health programs, have they been demonstrated to be safe for inhabitants and domestic animals in the treated areas, as well as for personnel applying them?', '14. Does the use of pesticides take into account the need to prevent the development of resistance in pests?', '15. Where registration is required, are all pesticides registered or otherwise authorized for use on the crops and livestock, or for the use patterns intended under the project?', '16. Are all pesticides used manufactured, formulated, packaged, labeled, handled, stored, disposed of, and applied according to relevant international standards and codes of conduct, as well as the Environmental, Health, and Safety Guidelines (EHSGs)?']}\n"
     ]
    }
   ],
   "source": [
    "import requests\n",
    "\n",
    "# Define the URL of your FastAPI endpoint\n",
    "url = \"http://localhost:6000/questions-from-standard-graph-rag-schema-guided\"\n",
    "\n",
    "import json\n",
    "\n",
    "# body = {\"query\": \"Environmental and Social Framework\", \"num_retrieved_docs\": 6}\n",
    "\n",
    "# Send the POST request\n",
    "response = requests.get(\n",
    "    url,\n",
    "    # files=files,  # Send the file\n",
    "    # json=body,  # Send the JSON schema\n",
    ")\n",
    "\n",
    "# Print the response from the server\n",
    "print(response.status_code)\n",
    "print(response.json())\n",
    "response_json = response.json()"
   ]
  },
  {
   "cell_type": "code",
   "execution_count": 7,
   "metadata": {},
   "outputs": [
    {
     "name": "stdout",
     "output_type": "stream",
     "text": [
      "1. Have all relevant factors been considered to address potential adverse project impacts on human health and the environment?\n",
      "\n",
      "\n",
      "2. Has the project characterized and estimated sources of air pollution as part of the environmental and social assessment?\n",
      "\n",
      "\n",
      "3. What additional strategies and measures have been adopted to avoid or minimize negative effects in areas where the project constitutes a significant source of emissions?\n",
      "\n",
      "\n",
      "4. Are there technically and financially feasible and cost-effective options implemented to avoid or minimize project-related air emissions during the design, construction, and operation phases?\n",
      "\n",
      "\n",
      "5. Has a health and safety risk assessment of existing pollution been undertaken?\n",
      "\n",
      "\n",
      "6. Are there any pesticide products being used that pose potentially serious risks to human health or the environment, and are these identified in internationally recognized classification and labeling systems?\n",
      "\n",
      "\n",
      "7. Does the country have restrictions on the distribution, management, and use of these pesticide products?\n",
      "\n",
      "\n",
      "8. Are these pesticide products likely to be used by, or accessible to, lay personnel, farmers, or others without proper training, equipment, and facilities?\n",
      "\n",
      "\n",
      "9. Do the selected pesticides have negligible adverse human health effects?\n",
      "\n",
      "\n",
      "10. Have the pesticides been shown to be effective against the target species?\n",
      "\n",
      "\n",
      "11. Do the pesticides have minimal effects on non-target species and the natural environment?\n",
      "\n",
      "\n",
      "12. Are the methods, timing, and frequency of pesticide application aimed at minimizing damage to natural enemies?\n",
      "\n",
      "\n",
      "13. For pesticides used in public health programs, have they been demonstrated to be safe for inhabitants and domestic animals in the treated areas, as well as for personnel applying them?\n",
      "\n",
      "\n",
      "14. Does the use of pesticides take into account the need to prevent the development of resistance in pests?\n",
      "\n",
      "\n",
      "15. Where registration is required, are all pesticides registered or otherwise authorized for use on the crops and livestock, or for the use patterns intended under the project?\n",
      "\n",
      "\n",
      "16. Are all pesticides used manufactured, formulated, packaged, labeled, handled, stored, disposed of, and applied according to relevant international standards and codes of conduct, as well as the Environmental, Health, and Safety Guidelines (EHSGs)?\n",
      "\n",
      "\n"
     ]
    }
   ],
   "source": [
    "questions = response_json[\"questions\"]\n",
    "\n",
    "for question in questions:\n",
    "    print(question)\n",
    "    print(\"\\n\")"
   ]
  },
  {
   "cell_type": "markdown",
   "metadata": {},
   "source": [
    "# Graph RAG - Free Form"
   ]
  },
  {
   "cell_type": "code",
   "execution_count": 2,
   "metadata": {},
   "outputs": [
    {
     "name": "stdout",
     "output_type": "stream",
     "text": [
      "200\n",
      "{'questions': ['1. Has the project undertaken a health and safety risk assessment?', '2. What measures have been adopted to optimize energy usage?', '3. How does the project plan to minimize the release of hazardous materials?', '4. Are licensed disposal sites being used for waste management?', '5. What steps are being taken to avoid or minimize negative effects on the environment?', '6. How is the project considering existing and future land use in its planning?', '7. What alternative disposal options have been considered for waste management?', '8. How is the project minimizing the amount of waste sent to disposal sites?', '9. What process has been established for managing environmental compliance?', '10. What strategies are being implemented to reduce the use of toxic materials?', '11. How will the project treat waste to ensure environmental safety?', '12. Has the project obtained chain of custody documentation for waste management?', '13. How are the impacts of climate change being considered in the project?', '14. Has a Pest Management Plan (PMP) been prepared for the project?', '15. What additional strategies are being considered to enhance environmental compliance?', '16. Are measures specified in the Environmental, Health, and Safety Guidelines (EHSGs) being adopted?', '17. Are Good International Industry Practices (GIIP) alternatives being adopted where necessary?', '18. How will the project destroy waste in an environmentally sound manner?', '19. What controls are in place for the use of hazardous materials?', '20. Are less hazardous substitutes being considered for materials used in the project?', '21. Have licensed disposal sites been ascertained for waste management?', '22. How are potential cumulative impacts of water use being assessed?', '23. What measures are being adopted to avoid or minimize water usage?', '24. Has a comparison been made to ensure the best environmental practices are being followed?', '25. How are existing ambient conditions being considered in the project planning?', '26. Will the project avoid using pesticide formulations that are not environmentally safe?', '27. What measures are being adopted to ensure overall environmental compliance?', '28. How is the project addressing pollution prevention requirements?', '29. How will the project treat, destroy, or dispose of waste in an environmentally sound and safe manner?', '30. Is the project complying with existing requirements for the management of hazardous wastes, including national legislation and applicable international conventions?', '31. Are GIIP alternatives being adopted for the management and disposal of hazardous waste where national requirements are absent?', '32. Are third-party contractors used for hazardous waste management reputable, legitimate, and licensed by relevant government regulatory agencies?', '33. How is the project ensuring the appropriate control of emissions and residues resulting from the handling and processing of waste material?', '34. What methodologies are being used to estimate greenhouse gas emissions, and are they in line with national and international agreements on climate change?', '35. How is the project ensuring that the procurement or use of pest control products does not represent a large component of the project without a PMP?']}\n"
     ]
    }
   ],
   "source": [
    "import requests\n",
    "\n",
    "# Define the URL of your FastAPI endpoint\n",
    "url = \"http://localhost:6000/questions-from-standard-graph-rag-free-form\"\n",
    "\n",
    "import json\n",
    "\n",
    "# body = {\"query\": \"Environmental and Social Framework\", \"num_retrieved_docs\": 6}\n",
    "\n",
    "# Send the POST request\n",
    "response = requests.get(\n",
    "    url,\n",
    "    # files=files,  # Send the file\n",
    "    # json=body,  # Send the JSON schema\n",
    ")\n",
    "\n",
    "# Print the response from the server\n",
    "print(response.status_code)\n",
    "print(response.json())\n",
    "response_json = response.json()"
   ]
  },
  {
   "cell_type": "code",
   "execution_count": 3,
   "metadata": {},
   "outputs": [
    {
     "name": "stdout",
     "output_type": "stream",
     "text": [
      "1. Has the project undertaken a health and safety risk assessment?\n",
      "\n",
      "\n",
      "2. What measures have been adopted to optimize energy usage?\n",
      "\n",
      "\n",
      "3. How does the project plan to minimize the release of hazardous materials?\n",
      "\n",
      "\n",
      "4. Are licensed disposal sites being used for waste management?\n",
      "\n",
      "\n",
      "5. What steps are being taken to avoid or minimize negative effects on the environment?\n",
      "\n",
      "\n",
      "6. How is the project considering existing and future land use in its planning?\n",
      "\n",
      "\n",
      "7. What alternative disposal options have been considered for waste management?\n",
      "\n",
      "\n",
      "8. How is the project minimizing the amount of waste sent to disposal sites?\n",
      "\n",
      "\n",
      "9. What process has been established for managing environmental compliance?\n",
      "\n",
      "\n",
      "10. What strategies are being implemented to reduce the use of toxic materials?\n",
      "\n",
      "\n",
      "11. How will the project treat waste to ensure environmental safety?\n",
      "\n",
      "\n",
      "12. Has the project obtained chain of custody documentation for waste management?\n",
      "\n",
      "\n",
      "13. How are the impacts of climate change being considered in the project?\n",
      "\n",
      "\n",
      "14. Has a Pest Management Plan (PMP) been prepared for the project?\n",
      "\n",
      "\n",
      "15. What additional strategies are being considered to enhance environmental compliance?\n",
      "\n",
      "\n",
      "16. Are measures specified in the Environmental, Health, and Safety Guidelines (EHSGs) being adopted?\n",
      "\n",
      "\n",
      "17. Are Good International Industry Practices (GIIP) alternatives being adopted where necessary?\n",
      "\n",
      "\n",
      "18. How will the project destroy waste in an environmentally sound manner?\n",
      "\n",
      "\n",
      "19. What controls are in place for the use of hazardous materials?\n",
      "\n",
      "\n",
      "20. Are less hazardous substitutes being considered for materials used in the project?\n",
      "\n",
      "\n",
      "21. Have licensed disposal sites been ascertained for waste management?\n",
      "\n",
      "\n",
      "22. How are potential cumulative impacts of water use being assessed?\n",
      "\n",
      "\n",
      "23. What measures are being adopted to avoid or minimize water usage?\n",
      "\n",
      "\n",
      "24. Has a comparison been made to ensure the best environmental practices are being followed?\n",
      "\n",
      "\n",
      "25. How are existing ambient conditions being considered in the project planning?\n",
      "\n",
      "\n",
      "26. Will the project avoid using pesticide formulations that are not environmentally safe?\n",
      "\n",
      "\n",
      "27. What measures are being adopted to ensure overall environmental compliance?\n",
      "\n",
      "\n",
      "28. How is the project addressing pollution prevention requirements?\n",
      "\n",
      "\n",
      "29. How will the project treat, destroy, or dispose of waste in an environmentally sound and safe manner?\n",
      "\n",
      "\n",
      "30. Is the project complying with existing requirements for the management of hazardous wastes, including national legislation and applicable international conventions?\n",
      "\n",
      "\n",
      "31. Are GIIP alternatives being adopted for the management and disposal of hazardous waste where national requirements are absent?\n",
      "\n",
      "\n",
      "32. Are third-party contractors used for hazardous waste management reputable, legitimate, and licensed by relevant government regulatory agencies?\n",
      "\n",
      "\n",
      "33. How is the project ensuring the appropriate control of emissions and residues resulting from the handling and processing of waste material?\n",
      "\n",
      "\n",
      "34. What methodologies are being used to estimate greenhouse gas emissions, and are they in line with national and international agreements on climate change?\n",
      "\n",
      "\n",
      "35. How is the project ensuring that the procurement or use of pest control products does not represent a large component of the project without a PMP?\n",
      "\n",
      "\n"
     ]
    }
   ],
   "source": [
    "questions = response_json[\"questions\"]\n",
    "\n",
    "for question in questions:\n",
    "    print(question)\n",
    "    print(\"\\n\")"
   ]
  }
 ],
 "metadata": {
  "kernelspec": {
   "display_name": "Python 3",
   "language": "python",
   "name": "python3"
  },
  "language_info": {
   "codemirror_mode": {
    "name": "ipython",
    "version": 3
   },
   "file_extension": ".py",
   "mimetype": "text/x-python",
   "name": "python",
   "nbconvert_exporter": "python",
   "pygments_lexer": "ipython3",
   "version": "3.10.14"
  }
 },
 "nbformat": 4,
 "nbformat_minor": 2
}
